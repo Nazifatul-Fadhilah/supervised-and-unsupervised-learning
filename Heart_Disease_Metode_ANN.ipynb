{
  "nbformat": 4,
  "nbformat_minor": 0,
  "metadata": {
    "colab": {
      "provenance": []
    },
    "kernelspec": {
      "name": "python3",
      "display_name": "Python 3"
    },
    "language_info": {
      "name": "python"
    }
  },
  "cells": [
    {
      "cell_type": "markdown",
      "source": [
        "## **1. Import Libraries**"
      ],
      "metadata": {
        "id": "bHzidRh2wkpu"
      }
    },
    {
      "cell_type": "code",
      "source": [
        "import pandas as pd\n",
        "import numpy as np\n",
        "from numpy import argmax\n",
        "import matplotlib.pyplot as plt\n",
        "import seaborn as sns\n",
        "import sklearn\n",
        "%matplotlib inline\n",
        "from sklearn import metrics # import scikit-learn metrics untuk menghitung kalkukasi"
      ],
      "metadata": {
        "id": "ebXXGbsRxKy2"
      },
      "execution_count": 13,
      "outputs": []
    },
    {
      "cell_type": "markdown",
      "source": [
        "## **2. Informasi Dataset**"
      ],
      "metadata": {
        "id": "LnhS8WcAzVwo"
      }
    },
    {
      "cell_type": "markdown",
      "source": [
        "\n",
        "\n",
        "*   Age : Usia pasien\n",
        "*   Sex : Jenis kelamin pasien\n",
        "*   cp  : Jenis nyeri dada\n",
        "      *   Value 1: Typical angina\n",
        "      *   Value 2: Atypical angina\n",
        "      *   Value 3: Non-anginal pain\n",
        "      *   Value 4: Asymptomatic\n",
        "*   trtbps : Tekanan darah pasien ketika dalam keadaan istirahat (mm Hg)\n",
        "*   chol : Kadar kolesterol dalam darah pasien mg/dl diambil melalui sensor BMI\n",
        "*   fbs : (Kadar gula darah pasien > 120 mg/dl) (1 = true; 0 = false)\n",
        "*   rest_ecg : Hasil elektrokardiografi pasien ketika dalam keadaan istirahat\n",
        "     *   Value 0: Normal\n",
        "     *   Value 1: Memiliki kelainan gelombang ST-T (inversi gelombang T dan/atau elevasi atau depresi ST > 0,05 mV)\n",
        "     *   Value 2: Keadaan dimana ventricular kiri mengalami hipertropi.\n",
        "*   thalach : Maksimum detak jantung pasien\n",
        "*   exang : Keadaan dimana pasien akan mengalami nyeri dada apabila berolah raga (1 = yes; 0 = no)\n",
        "*   oldpeak : Penurunan ST akibat olahraga.\n",
        "*   slp : Puncak ST setelah berolah raga.\n",
        "    *   Value 0: Downsloping\n",
        "    *   Value 1: Flat\n",
        "    *   Value 2: Upsloping\n",
        "*   ca: Banyaknya pembuluh darah (0-3)\n",
        "*   thall : Detak jantung pasien\n",
        "    *   Value 1: Fixed defect\n",
        "    *   Value 2: Normal\n",
        "    *   Value 3: Reversal defect\n",
        "*   output : status penyakit jantung\n",
        "    *   0 = Tidak adanya  penyakit jantung\n",
        "    *   1 = Ada penyakit jantung\n"
      ],
      "metadata": {
        "id": "rNwXSpYMzyiK"
      }
    },
    {
      "cell_type": "markdown",
      "source": [
        "## **3. Import Data**"
      ],
      "metadata": {
        "id": "_h9AxeHy4z4M"
      }
    },
    {
      "cell_type": "code",
      "source": [
        "url ='https://raw.githubusercontent.com/Nazifatul-Fadhilah/Data/main/heart.csv'\n",
        "df = pd.read_csv(url,encoding= 'unicode_escape')"
      ],
      "metadata": {
        "id": "Ijgjg3qVDTCD"
      },
      "execution_count": 14,
      "outputs": []
    },
    {
      "cell_type": "markdown",
      "source": [
        "# **4. EDA**"
      ],
      "metadata": {
        "id": "jQRBewm3Bpx7"
      }
    },
    {
      "cell_type": "code",
      "execution_count": 15,
      "metadata": {
        "execution": {
          "iopub.execute_input": "2022-03-09T19:51:31.041212Z",
          "iopub.status.busy": "2022-03-09T19:51:31.040469Z",
          "iopub.status.idle": "2022-03-09T19:51:31.044259Z",
          "shell.execute_reply": "2022-03-09T19:51:31.044811Z",
          "shell.execute_reply.started": "2022-03-09T18:37:59.960675Z"
        },
        "papermill": {
          "duration": 0.036321,
          "end_time": "2022-03-09T19:51:31.045015",
          "exception": false,
          "start_time": "2022-03-09T19:51:31.008694",
          "status": "completed"
        },
        "tags": [],
        "colab": {
          "base_uri": "https://localhost:8080/"
        },
        "id": "b3280959",
        "outputId": "bb9f800e-2de0-4cd5-dd19-f7c4ab309636"
      },
      "outputs": [
        {
          "output_type": "execute_result",
          "data": {
            "text/plain": [
              "(303, 14)"
            ]
          },
          "metadata": {},
          "execution_count": 15
        }
      ],
      "source": [
        "df.shape"
      ]
    },
    {
      "cell_type": "code",
      "source": [
        "df.head()"
      ],
      "metadata": {
        "colab": {
          "base_uri": "https://localhost:8080/",
          "height": 206
        },
        "id": "TUWioYCknB_8",
        "outputId": "2204d8a7-521e-48a3-e162-07ca44b5a8c4"
      },
      "execution_count": 16,
      "outputs": [
        {
          "output_type": "execute_result",
          "data": {
            "text/plain": [
              "   age  sex  cp  trtbps  chol  fbs  restecg  thalachh  exng  oldpeak  slp  \\\n",
              "0   63    1   3     145   233    1        0       150     0      2.3    0   \n",
              "1   37    1   2     130   250    0        1       187     0      3.5    0   \n",
              "2   41    0   1     130   204    0        0       172     0      1.4    2   \n",
              "3   56    1   1     120   236    0        1       178     0      0.8    2   \n",
              "4   57    0   0     120   354    0        1       163     1      0.6    2   \n",
              "\n",
              "   caa  thall  output  \n",
              "0    0      1       1  \n",
              "1    0      2       1  \n",
              "2    0      2       1  \n",
              "3    0      2       1  \n",
              "4    0      2       1  "
            ],
            "text/html": [
              "\n",
              "  <div id=\"df-c6302e31-78de-4c6e-8500-afb8e28ebfb6\" class=\"colab-df-container\">\n",
              "    <div>\n",
              "<style scoped>\n",
              "    .dataframe tbody tr th:only-of-type {\n",
              "        vertical-align: middle;\n",
              "    }\n",
              "\n",
              "    .dataframe tbody tr th {\n",
              "        vertical-align: top;\n",
              "    }\n",
              "\n",
              "    .dataframe thead th {\n",
              "        text-align: right;\n",
              "    }\n",
              "</style>\n",
              "<table border=\"1\" class=\"dataframe\">\n",
              "  <thead>\n",
              "    <tr style=\"text-align: right;\">\n",
              "      <th></th>\n",
              "      <th>age</th>\n",
              "      <th>sex</th>\n",
              "      <th>cp</th>\n",
              "      <th>trtbps</th>\n",
              "      <th>chol</th>\n",
              "      <th>fbs</th>\n",
              "      <th>restecg</th>\n",
              "      <th>thalachh</th>\n",
              "      <th>exng</th>\n",
              "      <th>oldpeak</th>\n",
              "      <th>slp</th>\n",
              "      <th>caa</th>\n",
              "      <th>thall</th>\n",
              "      <th>output</th>\n",
              "    </tr>\n",
              "  </thead>\n",
              "  <tbody>\n",
              "    <tr>\n",
              "      <th>0</th>\n",
              "      <td>63</td>\n",
              "      <td>1</td>\n",
              "      <td>3</td>\n",
              "      <td>145</td>\n",
              "      <td>233</td>\n",
              "      <td>1</td>\n",
              "      <td>0</td>\n",
              "      <td>150</td>\n",
              "      <td>0</td>\n",
              "      <td>2.3</td>\n",
              "      <td>0</td>\n",
              "      <td>0</td>\n",
              "      <td>1</td>\n",
              "      <td>1</td>\n",
              "    </tr>\n",
              "    <tr>\n",
              "      <th>1</th>\n",
              "      <td>37</td>\n",
              "      <td>1</td>\n",
              "      <td>2</td>\n",
              "      <td>130</td>\n",
              "      <td>250</td>\n",
              "      <td>0</td>\n",
              "      <td>1</td>\n",
              "      <td>187</td>\n",
              "      <td>0</td>\n",
              "      <td>3.5</td>\n",
              "      <td>0</td>\n",
              "      <td>0</td>\n",
              "      <td>2</td>\n",
              "      <td>1</td>\n",
              "    </tr>\n",
              "    <tr>\n",
              "      <th>2</th>\n",
              "      <td>41</td>\n",
              "      <td>0</td>\n",
              "      <td>1</td>\n",
              "      <td>130</td>\n",
              "      <td>204</td>\n",
              "      <td>0</td>\n",
              "      <td>0</td>\n",
              "      <td>172</td>\n",
              "      <td>0</td>\n",
              "      <td>1.4</td>\n",
              "      <td>2</td>\n",
              "      <td>0</td>\n",
              "      <td>2</td>\n",
              "      <td>1</td>\n",
              "    </tr>\n",
              "    <tr>\n",
              "      <th>3</th>\n",
              "      <td>56</td>\n",
              "      <td>1</td>\n",
              "      <td>1</td>\n",
              "      <td>120</td>\n",
              "      <td>236</td>\n",
              "      <td>0</td>\n",
              "      <td>1</td>\n",
              "      <td>178</td>\n",
              "      <td>0</td>\n",
              "      <td>0.8</td>\n",
              "      <td>2</td>\n",
              "      <td>0</td>\n",
              "      <td>2</td>\n",
              "      <td>1</td>\n",
              "    </tr>\n",
              "    <tr>\n",
              "      <th>4</th>\n",
              "      <td>57</td>\n",
              "      <td>0</td>\n",
              "      <td>0</td>\n",
              "      <td>120</td>\n",
              "      <td>354</td>\n",
              "      <td>0</td>\n",
              "      <td>1</td>\n",
              "      <td>163</td>\n",
              "      <td>1</td>\n",
              "      <td>0.6</td>\n",
              "      <td>2</td>\n",
              "      <td>0</td>\n",
              "      <td>2</td>\n",
              "      <td>1</td>\n",
              "    </tr>\n",
              "  </tbody>\n",
              "</table>\n",
              "</div>\n",
              "    <div class=\"colab-df-buttons\">\n",
              "\n",
              "  <div class=\"colab-df-container\">\n",
              "    <button class=\"colab-df-convert\" onclick=\"convertToInteractive('df-c6302e31-78de-4c6e-8500-afb8e28ebfb6')\"\n",
              "            title=\"Convert this dataframe to an interactive table.\"\n",
              "            style=\"display:none;\">\n",
              "\n",
              "  <svg xmlns=\"http://www.w3.org/2000/svg\" height=\"24px\" viewBox=\"0 -960 960 960\">\n",
              "    <path d=\"M120-120v-720h720v720H120Zm60-500h600v-160H180v160Zm220 220h160v-160H400v160Zm0 220h160v-160H400v160ZM180-400h160v-160H180v160Zm440 0h160v-160H620v160ZM180-180h160v-160H180v160Zm440 0h160v-160H620v160Z\"/>\n",
              "  </svg>\n",
              "    </button>\n",
              "\n",
              "  <style>\n",
              "    .colab-df-container {\n",
              "      display:flex;\n",
              "      gap: 12px;\n",
              "    }\n",
              "\n",
              "    .colab-df-convert {\n",
              "      background-color: #E8F0FE;\n",
              "      border: none;\n",
              "      border-radius: 50%;\n",
              "      cursor: pointer;\n",
              "      display: none;\n",
              "      fill: #1967D2;\n",
              "      height: 32px;\n",
              "      padding: 0 0 0 0;\n",
              "      width: 32px;\n",
              "    }\n",
              "\n",
              "    .colab-df-convert:hover {\n",
              "      background-color: #E2EBFA;\n",
              "      box-shadow: 0px 1px 2px rgba(60, 64, 67, 0.3), 0px 1px 3px 1px rgba(60, 64, 67, 0.15);\n",
              "      fill: #174EA6;\n",
              "    }\n",
              "\n",
              "    .colab-df-buttons div {\n",
              "      margin-bottom: 4px;\n",
              "    }\n",
              "\n",
              "    [theme=dark] .colab-df-convert {\n",
              "      background-color: #3B4455;\n",
              "      fill: #D2E3FC;\n",
              "    }\n",
              "\n",
              "    [theme=dark] .colab-df-convert:hover {\n",
              "      background-color: #434B5C;\n",
              "      box-shadow: 0px 1px 3px 1px rgba(0, 0, 0, 0.15);\n",
              "      filter: drop-shadow(0px 1px 2px rgba(0, 0, 0, 0.3));\n",
              "      fill: #FFFFFF;\n",
              "    }\n",
              "  </style>\n",
              "\n",
              "    <script>\n",
              "      const buttonEl =\n",
              "        document.querySelector('#df-c6302e31-78de-4c6e-8500-afb8e28ebfb6 button.colab-df-convert');\n",
              "      buttonEl.style.display =\n",
              "        google.colab.kernel.accessAllowed ? 'block' : 'none';\n",
              "\n",
              "      async function convertToInteractive(key) {\n",
              "        const element = document.querySelector('#df-c6302e31-78de-4c6e-8500-afb8e28ebfb6');\n",
              "        const dataTable =\n",
              "          await google.colab.kernel.invokeFunction('convertToInteractive',\n",
              "                                                    [key], {});\n",
              "        if (!dataTable) return;\n",
              "\n",
              "        const docLinkHtml = 'Like what you see? Visit the ' +\n",
              "          '<a target=\"_blank\" href=https://colab.research.google.com/notebooks/data_table.ipynb>data table notebook</a>'\n",
              "          + ' to learn more about interactive tables.';\n",
              "        element.innerHTML = '';\n",
              "        dataTable['output_type'] = 'display_data';\n",
              "        await google.colab.output.renderOutput(dataTable, element);\n",
              "        const docLink = document.createElement('div');\n",
              "        docLink.innerHTML = docLinkHtml;\n",
              "        element.appendChild(docLink);\n",
              "      }\n",
              "    </script>\n",
              "  </div>\n",
              "\n",
              "\n",
              "<div id=\"df-62f6c891-db1a-4cc6-890e-88510aadaa66\">\n",
              "  <button class=\"colab-df-quickchart\" onclick=\"quickchart('df-62f6c891-db1a-4cc6-890e-88510aadaa66')\"\n",
              "            title=\"Suggest charts\"\n",
              "            style=\"display:none;\">\n",
              "\n",
              "<svg xmlns=\"http://www.w3.org/2000/svg\" height=\"24px\"viewBox=\"0 0 24 24\"\n",
              "     width=\"24px\">\n",
              "    <g>\n",
              "        <path d=\"M19 3H5c-1.1 0-2 .9-2 2v14c0 1.1.9 2 2 2h14c1.1 0 2-.9 2-2V5c0-1.1-.9-2-2-2zM9 17H7v-7h2v7zm4 0h-2V7h2v10zm4 0h-2v-4h2v4z\"/>\n",
              "    </g>\n",
              "</svg>\n",
              "  </button>\n",
              "\n",
              "<style>\n",
              "  .colab-df-quickchart {\n",
              "      --bg-color: #E8F0FE;\n",
              "      --fill-color: #1967D2;\n",
              "      --hover-bg-color: #E2EBFA;\n",
              "      --hover-fill-color: #174EA6;\n",
              "      --disabled-fill-color: #AAA;\n",
              "      --disabled-bg-color: #DDD;\n",
              "  }\n",
              "\n",
              "  [theme=dark] .colab-df-quickchart {\n",
              "      --bg-color: #3B4455;\n",
              "      --fill-color: #D2E3FC;\n",
              "      --hover-bg-color: #434B5C;\n",
              "      --hover-fill-color: #FFFFFF;\n",
              "      --disabled-bg-color: #3B4455;\n",
              "      --disabled-fill-color: #666;\n",
              "  }\n",
              "\n",
              "  .colab-df-quickchart {\n",
              "    background-color: var(--bg-color);\n",
              "    border: none;\n",
              "    border-radius: 50%;\n",
              "    cursor: pointer;\n",
              "    display: none;\n",
              "    fill: var(--fill-color);\n",
              "    height: 32px;\n",
              "    padding: 0;\n",
              "    width: 32px;\n",
              "  }\n",
              "\n",
              "  .colab-df-quickchart:hover {\n",
              "    background-color: var(--hover-bg-color);\n",
              "    box-shadow: 0 1px 2px rgba(60, 64, 67, 0.3), 0 1px 3px 1px rgba(60, 64, 67, 0.15);\n",
              "    fill: var(--button-hover-fill-color);\n",
              "  }\n",
              "\n",
              "  .colab-df-quickchart-complete:disabled,\n",
              "  .colab-df-quickchart-complete:disabled:hover {\n",
              "    background-color: var(--disabled-bg-color);\n",
              "    fill: var(--disabled-fill-color);\n",
              "    box-shadow: none;\n",
              "  }\n",
              "\n",
              "  .colab-df-spinner {\n",
              "    border: 2px solid var(--fill-color);\n",
              "    border-color: transparent;\n",
              "    border-bottom-color: var(--fill-color);\n",
              "    animation:\n",
              "      spin 1s steps(1) infinite;\n",
              "  }\n",
              "\n",
              "  @keyframes spin {\n",
              "    0% {\n",
              "      border-color: transparent;\n",
              "      border-bottom-color: var(--fill-color);\n",
              "      border-left-color: var(--fill-color);\n",
              "    }\n",
              "    20% {\n",
              "      border-color: transparent;\n",
              "      border-left-color: var(--fill-color);\n",
              "      border-top-color: var(--fill-color);\n",
              "    }\n",
              "    30% {\n",
              "      border-color: transparent;\n",
              "      border-left-color: var(--fill-color);\n",
              "      border-top-color: var(--fill-color);\n",
              "      border-right-color: var(--fill-color);\n",
              "    }\n",
              "    40% {\n",
              "      border-color: transparent;\n",
              "      border-right-color: var(--fill-color);\n",
              "      border-top-color: var(--fill-color);\n",
              "    }\n",
              "    60% {\n",
              "      border-color: transparent;\n",
              "      border-right-color: var(--fill-color);\n",
              "    }\n",
              "    80% {\n",
              "      border-color: transparent;\n",
              "      border-right-color: var(--fill-color);\n",
              "      border-bottom-color: var(--fill-color);\n",
              "    }\n",
              "    90% {\n",
              "      border-color: transparent;\n",
              "      border-bottom-color: var(--fill-color);\n",
              "    }\n",
              "  }\n",
              "</style>\n",
              "\n",
              "  <script>\n",
              "    async function quickchart(key) {\n",
              "      const quickchartButtonEl =\n",
              "        document.querySelector('#' + key + ' button');\n",
              "      quickchartButtonEl.disabled = true;  // To prevent multiple clicks.\n",
              "      quickchartButtonEl.classList.add('colab-df-spinner');\n",
              "      try {\n",
              "        const charts = await google.colab.kernel.invokeFunction(\n",
              "            'suggestCharts', [key], {});\n",
              "      } catch (error) {\n",
              "        console.error('Error during call to suggestCharts:', error);\n",
              "      }\n",
              "      quickchartButtonEl.classList.remove('colab-df-spinner');\n",
              "      quickchartButtonEl.classList.add('colab-df-quickchart-complete');\n",
              "    }\n",
              "    (() => {\n",
              "      let quickchartButtonEl =\n",
              "        document.querySelector('#df-62f6c891-db1a-4cc6-890e-88510aadaa66 button');\n",
              "      quickchartButtonEl.style.display =\n",
              "        google.colab.kernel.accessAllowed ? 'block' : 'none';\n",
              "    })();\n",
              "  </script>\n",
              "</div>\n",
              "\n",
              "    </div>\n",
              "  </div>\n"
            ],
            "application/vnd.google.colaboratory.intrinsic+json": {
              "type": "dataframe",
              "variable_name": "df",
              "summary": "{\n  \"name\": \"df\",\n  \"rows\": 303,\n  \"fields\": [\n    {\n      \"column\": \"age\",\n      \"properties\": {\n        \"dtype\": \"number\",\n        \"std\": 9,\n        \"min\": 29,\n        \"max\": 77,\n        \"num_unique_values\": 41,\n        \"samples\": [\n          46,\n          66,\n          48\n        ],\n        \"semantic_type\": \"\",\n        \"description\": \"\"\n      }\n    },\n    {\n      \"column\": \"sex\",\n      \"properties\": {\n        \"dtype\": \"number\",\n        \"std\": 0,\n        \"min\": 0,\n        \"max\": 1,\n        \"num_unique_values\": 2,\n        \"samples\": [\n          0,\n          1\n        ],\n        \"semantic_type\": \"\",\n        \"description\": \"\"\n      }\n    },\n    {\n      \"column\": \"cp\",\n      \"properties\": {\n        \"dtype\": \"number\",\n        \"std\": 1,\n        \"min\": 0,\n        \"max\": 3,\n        \"num_unique_values\": 4,\n        \"samples\": [\n          2,\n          0\n        ],\n        \"semantic_type\": \"\",\n        \"description\": \"\"\n      }\n    },\n    {\n      \"column\": \"trtbps\",\n      \"properties\": {\n        \"dtype\": \"number\",\n        \"std\": 17,\n        \"min\": 94,\n        \"max\": 200,\n        \"num_unique_values\": 49,\n        \"samples\": [\n          104,\n          123\n        ],\n        \"semantic_type\": \"\",\n        \"description\": \"\"\n      }\n    },\n    {\n      \"column\": \"chol\",\n      \"properties\": {\n        \"dtype\": \"number\",\n        \"std\": 51,\n        \"min\": 126,\n        \"max\": 564,\n        \"num_unique_values\": 152,\n        \"samples\": [\n          277,\n          169\n        ],\n        \"semantic_type\": \"\",\n        \"description\": \"\"\n      }\n    },\n    {\n      \"column\": \"fbs\",\n      \"properties\": {\n        \"dtype\": \"number\",\n        \"std\": 0,\n        \"min\": 0,\n        \"max\": 1,\n        \"num_unique_values\": 2,\n        \"samples\": [\n          0,\n          1\n        ],\n        \"semantic_type\": \"\",\n        \"description\": \"\"\n      }\n    },\n    {\n      \"column\": \"restecg\",\n      \"properties\": {\n        \"dtype\": \"number\",\n        \"std\": 0,\n        \"min\": 0,\n        \"max\": 2,\n        \"num_unique_values\": 3,\n        \"samples\": [\n          0,\n          1\n        ],\n        \"semantic_type\": \"\",\n        \"description\": \"\"\n      }\n    },\n    {\n      \"column\": \"thalachh\",\n      \"properties\": {\n        \"dtype\": \"number\",\n        \"std\": 22,\n        \"min\": 71,\n        \"max\": 202,\n        \"num_unique_values\": 91,\n        \"samples\": [\n          159,\n          152\n        ],\n        \"semantic_type\": \"\",\n        \"description\": \"\"\n      }\n    },\n    {\n      \"column\": \"exng\",\n      \"properties\": {\n        \"dtype\": \"number\",\n        \"std\": 0,\n        \"min\": 0,\n        \"max\": 1,\n        \"num_unique_values\": 2,\n        \"samples\": [\n          1,\n          0\n        ],\n        \"semantic_type\": \"\",\n        \"description\": \"\"\n      }\n    },\n    {\n      \"column\": \"oldpeak\",\n      \"properties\": {\n        \"dtype\": \"number\",\n        \"std\": 1.1610750220686348,\n        \"min\": 0.0,\n        \"max\": 6.2,\n        \"num_unique_values\": 40,\n        \"samples\": [\n          1.9,\n          3.0\n        ],\n        \"semantic_type\": \"\",\n        \"description\": \"\"\n      }\n    },\n    {\n      \"column\": \"slp\",\n      \"properties\": {\n        \"dtype\": \"number\",\n        \"std\": 0,\n        \"min\": 0,\n        \"max\": 2,\n        \"num_unique_values\": 3,\n        \"samples\": [\n          0,\n          2\n        ],\n        \"semantic_type\": \"\",\n        \"description\": \"\"\n      }\n    },\n    {\n      \"column\": \"caa\",\n      \"properties\": {\n        \"dtype\": \"number\",\n        \"std\": 1,\n        \"min\": 0,\n        \"max\": 4,\n        \"num_unique_values\": 5,\n        \"samples\": [\n          2,\n          4\n        ],\n        \"semantic_type\": \"\",\n        \"description\": \"\"\n      }\n    },\n    {\n      \"column\": \"thall\",\n      \"properties\": {\n        \"dtype\": \"number\",\n        \"std\": 0,\n        \"min\": 0,\n        \"max\": 3,\n        \"num_unique_values\": 4,\n        \"samples\": [\n          2,\n          0\n        ],\n        \"semantic_type\": \"\",\n        \"description\": \"\"\n      }\n    },\n    {\n      \"column\": \"output\",\n      \"properties\": {\n        \"dtype\": \"number\",\n        \"std\": 0,\n        \"min\": 0,\n        \"max\": 1,\n        \"num_unique_values\": 2,\n        \"samples\": [\n          0,\n          1\n        ],\n        \"semantic_type\": \"\",\n        \"description\": \"\"\n      }\n    }\n  ]\n}"
            }
          },
          "metadata": {},
          "execution_count": 16
        }
      ]
    },
    {
      "cell_type": "code",
      "source": [
        "df.tail()"
      ],
      "metadata": {
        "colab": {
          "base_uri": "https://localhost:8080/",
          "height": 206
        },
        "id": "NlPufD-GobbF",
        "outputId": "34ae8d0c-0d5b-457a-be11-49f9577c9d46"
      },
      "execution_count": 17,
      "outputs": [
        {
          "output_type": "execute_result",
          "data": {
            "text/plain": [
              "     age  sex  cp  trtbps  chol  fbs  restecg  thalachh  exng  oldpeak  slp  \\\n",
              "298   57    0   0     140   241    0        1       123     1      0.2    1   \n",
              "299   45    1   3     110   264    0        1       132     0      1.2    1   \n",
              "300   68    1   0     144   193    1        1       141     0      3.4    1   \n",
              "301   57    1   0     130   131    0        1       115     1      1.2    1   \n",
              "302   57    0   1     130   236    0        0       174     0      0.0    1   \n",
              "\n",
              "     caa  thall  output  \n",
              "298    0      3       0  \n",
              "299    0      3       0  \n",
              "300    2      3       0  \n",
              "301    1      3       0  \n",
              "302    1      2       0  "
            ],
            "text/html": [
              "\n",
              "  <div id=\"df-185faacd-dd96-4fca-86af-811b198635bb\" class=\"colab-df-container\">\n",
              "    <div>\n",
              "<style scoped>\n",
              "    .dataframe tbody tr th:only-of-type {\n",
              "        vertical-align: middle;\n",
              "    }\n",
              "\n",
              "    .dataframe tbody tr th {\n",
              "        vertical-align: top;\n",
              "    }\n",
              "\n",
              "    .dataframe thead th {\n",
              "        text-align: right;\n",
              "    }\n",
              "</style>\n",
              "<table border=\"1\" class=\"dataframe\">\n",
              "  <thead>\n",
              "    <tr style=\"text-align: right;\">\n",
              "      <th></th>\n",
              "      <th>age</th>\n",
              "      <th>sex</th>\n",
              "      <th>cp</th>\n",
              "      <th>trtbps</th>\n",
              "      <th>chol</th>\n",
              "      <th>fbs</th>\n",
              "      <th>restecg</th>\n",
              "      <th>thalachh</th>\n",
              "      <th>exng</th>\n",
              "      <th>oldpeak</th>\n",
              "      <th>slp</th>\n",
              "      <th>caa</th>\n",
              "      <th>thall</th>\n",
              "      <th>output</th>\n",
              "    </tr>\n",
              "  </thead>\n",
              "  <tbody>\n",
              "    <tr>\n",
              "      <th>298</th>\n",
              "      <td>57</td>\n",
              "      <td>0</td>\n",
              "      <td>0</td>\n",
              "      <td>140</td>\n",
              "      <td>241</td>\n",
              "      <td>0</td>\n",
              "      <td>1</td>\n",
              "      <td>123</td>\n",
              "      <td>1</td>\n",
              "      <td>0.2</td>\n",
              "      <td>1</td>\n",
              "      <td>0</td>\n",
              "      <td>3</td>\n",
              "      <td>0</td>\n",
              "    </tr>\n",
              "    <tr>\n",
              "      <th>299</th>\n",
              "      <td>45</td>\n",
              "      <td>1</td>\n",
              "      <td>3</td>\n",
              "      <td>110</td>\n",
              "      <td>264</td>\n",
              "      <td>0</td>\n",
              "      <td>1</td>\n",
              "      <td>132</td>\n",
              "      <td>0</td>\n",
              "      <td>1.2</td>\n",
              "      <td>1</td>\n",
              "      <td>0</td>\n",
              "      <td>3</td>\n",
              "      <td>0</td>\n",
              "    </tr>\n",
              "    <tr>\n",
              "      <th>300</th>\n",
              "      <td>68</td>\n",
              "      <td>1</td>\n",
              "      <td>0</td>\n",
              "      <td>144</td>\n",
              "      <td>193</td>\n",
              "      <td>1</td>\n",
              "      <td>1</td>\n",
              "      <td>141</td>\n",
              "      <td>0</td>\n",
              "      <td>3.4</td>\n",
              "      <td>1</td>\n",
              "      <td>2</td>\n",
              "      <td>3</td>\n",
              "      <td>0</td>\n",
              "    </tr>\n",
              "    <tr>\n",
              "      <th>301</th>\n",
              "      <td>57</td>\n",
              "      <td>1</td>\n",
              "      <td>0</td>\n",
              "      <td>130</td>\n",
              "      <td>131</td>\n",
              "      <td>0</td>\n",
              "      <td>1</td>\n",
              "      <td>115</td>\n",
              "      <td>1</td>\n",
              "      <td>1.2</td>\n",
              "      <td>1</td>\n",
              "      <td>1</td>\n",
              "      <td>3</td>\n",
              "      <td>0</td>\n",
              "    </tr>\n",
              "    <tr>\n",
              "      <th>302</th>\n",
              "      <td>57</td>\n",
              "      <td>0</td>\n",
              "      <td>1</td>\n",
              "      <td>130</td>\n",
              "      <td>236</td>\n",
              "      <td>0</td>\n",
              "      <td>0</td>\n",
              "      <td>174</td>\n",
              "      <td>0</td>\n",
              "      <td>0.0</td>\n",
              "      <td>1</td>\n",
              "      <td>1</td>\n",
              "      <td>2</td>\n",
              "      <td>0</td>\n",
              "    </tr>\n",
              "  </tbody>\n",
              "</table>\n",
              "</div>\n",
              "    <div class=\"colab-df-buttons\">\n",
              "\n",
              "  <div class=\"colab-df-container\">\n",
              "    <button class=\"colab-df-convert\" onclick=\"convertToInteractive('df-185faacd-dd96-4fca-86af-811b198635bb')\"\n",
              "            title=\"Convert this dataframe to an interactive table.\"\n",
              "            style=\"display:none;\">\n",
              "\n",
              "  <svg xmlns=\"http://www.w3.org/2000/svg\" height=\"24px\" viewBox=\"0 -960 960 960\">\n",
              "    <path d=\"M120-120v-720h720v720H120Zm60-500h600v-160H180v160Zm220 220h160v-160H400v160Zm0 220h160v-160H400v160ZM180-400h160v-160H180v160Zm440 0h160v-160H620v160ZM180-180h160v-160H180v160Zm440 0h160v-160H620v160Z\"/>\n",
              "  </svg>\n",
              "    </button>\n",
              "\n",
              "  <style>\n",
              "    .colab-df-container {\n",
              "      display:flex;\n",
              "      gap: 12px;\n",
              "    }\n",
              "\n",
              "    .colab-df-convert {\n",
              "      background-color: #E8F0FE;\n",
              "      border: none;\n",
              "      border-radius: 50%;\n",
              "      cursor: pointer;\n",
              "      display: none;\n",
              "      fill: #1967D2;\n",
              "      height: 32px;\n",
              "      padding: 0 0 0 0;\n",
              "      width: 32px;\n",
              "    }\n",
              "\n",
              "    .colab-df-convert:hover {\n",
              "      background-color: #E2EBFA;\n",
              "      box-shadow: 0px 1px 2px rgba(60, 64, 67, 0.3), 0px 1px 3px 1px rgba(60, 64, 67, 0.15);\n",
              "      fill: #174EA6;\n",
              "    }\n",
              "\n",
              "    .colab-df-buttons div {\n",
              "      margin-bottom: 4px;\n",
              "    }\n",
              "\n",
              "    [theme=dark] .colab-df-convert {\n",
              "      background-color: #3B4455;\n",
              "      fill: #D2E3FC;\n",
              "    }\n",
              "\n",
              "    [theme=dark] .colab-df-convert:hover {\n",
              "      background-color: #434B5C;\n",
              "      box-shadow: 0px 1px 3px 1px rgba(0, 0, 0, 0.15);\n",
              "      filter: drop-shadow(0px 1px 2px rgba(0, 0, 0, 0.3));\n",
              "      fill: #FFFFFF;\n",
              "    }\n",
              "  </style>\n",
              "\n",
              "    <script>\n",
              "      const buttonEl =\n",
              "        document.querySelector('#df-185faacd-dd96-4fca-86af-811b198635bb button.colab-df-convert');\n",
              "      buttonEl.style.display =\n",
              "        google.colab.kernel.accessAllowed ? 'block' : 'none';\n",
              "\n",
              "      async function convertToInteractive(key) {\n",
              "        const element = document.querySelector('#df-185faacd-dd96-4fca-86af-811b198635bb');\n",
              "        const dataTable =\n",
              "          await google.colab.kernel.invokeFunction('convertToInteractive',\n",
              "                                                    [key], {});\n",
              "        if (!dataTable) return;\n",
              "\n",
              "        const docLinkHtml = 'Like what you see? Visit the ' +\n",
              "          '<a target=\"_blank\" href=https://colab.research.google.com/notebooks/data_table.ipynb>data table notebook</a>'\n",
              "          + ' to learn more about interactive tables.';\n",
              "        element.innerHTML = '';\n",
              "        dataTable['output_type'] = 'display_data';\n",
              "        await google.colab.output.renderOutput(dataTable, element);\n",
              "        const docLink = document.createElement('div');\n",
              "        docLink.innerHTML = docLinkHtml;\n",
              "        element.appendChild(docLink);\n",
              "      }\n",
              "    </script>\n",
              "  </div>\n",
              "\n",
              "\n",
              "<div id=\"df-bd5f0ae0-0776-480a-883c-d84a2c66e88a\">\n",
              "  <button class=\"colab-df-quickchart\" onclick=\"quickchart('df-bd5f0ae0-0776-480a-883c-d84a2c66e88a')\"\n",
              "            title=\"Suggest charts\"\n",
              "            style=\"display:none;\">\n",
              "\n",
              "<svg xmlns=\"http://www.w3.org/2000/svg\" height=\"24px\"viewBox=\"0 0 24 24\"\n",
              "     width=\"24px\">\n",
              "    <g>\n",
              "        <path d=\"M19 3H5c-1.1 0-2 .9-2 2v14c0 1.1.9 2 2 2h14c1.1 0 2-.9 2-2V5c0-1.1-.9-2-2-2zM9 17H7v-7h2v7zm4 0h-2V7h2v10zm4 0h-2v-4h2v4z\"/>\n",
              "    </g>\n",
              "</svg>\n",
              "  </button>\n",
              "\n",
              "<style>\n",
              "  .colab-df-quickchart {\n",
              "      --bg-color: #E8F0FE;\n",
              "      --fill-color: #1967D2;\n",
              "      --hover-bg-color: #E2EBFA;\n",
              "      --hover-fill-color: #174EA6;\n",
              "      --disabled-fill-color: #AAA;\n",
              "      --disabled-bg-color: #DDD;\n",
              "  }\n",
              "\n",
              "  [theme=dark] .colab-df-quickchart {\n",
              "      --bg-color: #3B4455;\n",
              "      --fill-color: #D2E3FC;\n",
              "      --hover-bg-color: #434B5C;\n",
              "      --hover-fill-color: #FFFFFF;\n",
              "      --disabled-bg-color: #3B4455;\n",
              "      --disabled-fill-color: #666;\n",
              "  }\n",
              "\n",
              "  .colab-df-quickchart {\n",
              "    background-color: var(--bg-color);\n",
              "    border: none;\n",
              "    border-radius: 50%;\n",
              "    cursor: pointer;\n",
              "    display: none;\n",
              "    fill: var(--fill-color);\n",
              "    height: 32px;\n",
              "    padding: 0;\n",
              "    width: 32px;\n",
              "  }\n",
              "\n",
              "  .colab-df-quickchart:hover {\n",
              "    background-color: var(--hover-bg-color);\n",
              "    box-shadow: 0 1px 2px rgba(60, 64, 67, 0.3), 0 1px 3px 1px rgba(60, 64, 67, 0.15);\n",
              "    fill: var(--button-hover-fill-color);\n",
              "  }\n",
              "\n",
              "  .colab-df-quickchart-complete:disabled,\n",
              "  .colab-df-quickchart-complete:disabled:hover {\n",
              "    background-color: var(--disabled-bg-color);\n",
              "    fill: var(--disabled-fill-color);\n",
              "    box-shadow: none;\n",
              "  }\n",
              "\n",
              "  .colab-df-spinner {\n",
              "    border: 2px solid var(--fill-color);\n",
              "    border-color: transparent;\n",
              "    border-bottom-color: var(--fill-color);\n",
              "    animation:\n",
              "      spin 1s steps(1) infinite;\n",
              "  }\n",
              "\n",
              "  @keyframes spin {\n",
              "    0% {\n",
              "      border-color: transparent;\n",
              "      border-bottom-color: var(--fill-color);\n",
              "      border-left-color: var(--fill-color);\n",
              "    }\n",
              "    20% {\n",
              "      border-color: transparent;\n",
              "      border-left-color: var(--fill-color);\n",
              "      border-top-color: var(--fill-color);\n",
              "    }\n",
              "    30% {\n",
              "      border-color: transparent;\n",
              "      border-left-color: var(--fill-color);\n",
              "      border-top-color: var(--fill-color);\n",
              "      border-right-color: var(--fill-color);\n",
              "    }\n",
              "    40% {\n",
              "      border-color: transparent;\n",
              "      border-right-color: var(--fill-color);\n",
              "      border-top-color: var(--fill-color);\n",
              "    }\n",
              "    60% {\n",
              "      border-color: transparent;\n",
              "      border-right-color: var(--fill-color);\n",
              "    }\n",
              "    80% {\n",
              "      border-color: transparent;\n",
              "      border-right-color: var(--fill-color);\n",
              "      border-bottom-color: var(--fill-color);\n",
              "    }\n",
              "    90% {\n",
              "      border-color: transparent;\n",
              "      border-bottom-color: var(--fill-color);\n",
              "    }\n",
              "  }\n",
              "</style>\n",
              "\n",
              "  <script>\n",
              "    async function quickchart(key) {\n",
              "      const quickchartButtonEl =\n",
              "        document.querySelector('#' + key + ' button');\n",
              "      quickchartButtonEl.disabled = true;  // To prevent multiple clicks.\n",
              "      quickchartButtonEl.classList.add('colab-df-spinner');\n",
              "      try {\n",
              "        const charts = await google.colab.kernel.invokeFunction(\n",
              "            'suggestCharts', [key], {});\n",
              "      } catch (error) {\n",
              "        console.error('Error during call to suggestCharts:', error);\n",
              "      }\n",
              "      quickchartButtonEl.classList.remove('colab-df-spinner');\n",
              "      quickchartButtonEl.classList.add('colab-df-quickchart-complete');\n",
              "    }\n",
              "    (() => {\n",
              "      let quickchartButtonEl =\n",
              "        document.querySelector('#df-bd5f0ae0-0776-480a-883c-d84a2c66e88a button');\n",
              "      quickchartButtonEl.style.display =\n",
              "        google.colab.kernel.accessAllowed ? 'block' : 'none';\n",
              "    })();\n",
              "  </script>\n",
              "</div>\n",
              "\n",
              "    </div>\n",
              "  </div>\n"
            ],
            "application/vnd.google.colaboratory.intrinsic+json": {
              "type": "dataframe",
              "summary": "{\n  \"name\": \"df\",\n  \"rows\": 5,\n  \"fields\": [\n    {\n      \"column\": \"age\",\n      \"properties\": {\n        \"dtype\": \"number\",\n        \"std\": 8,\n        \"min\": 45,\n        \"max\": 68,\n        \"num_unique_values\": 3,\n        \"samples\": [\n          57,\n          45,\n          68\n        ],\n        \"semantic_type\": \"\",\n        \"description\": \"\"\n      }\n    },\n    {\n      \"column\": \"sex\",\n      \"properties\": {\n        \"dtype\": \"number\",\n        \"std\": 0,\n        \"min\": 0,\n        \"max\": 1,\n        \"num_unique_values\": 2,\n        \"samples\": [\n          1,\n          0\n        ],\n        \"semantic_type\": \"\",\n        \"description\": \"\"\n      }\n    },\n    {\n      \"column\": \"cp\",\n      \"properties\": {\n        \"dtype\": \"number\",\n        \"std\": 1,\n        \"min\": 0,\n        \"max\": 3,\n        \"num_unique_values\": 3,\n        \"samples\": [\n          0,\n          3\n        ],\n        \"semantic_type\": \"\",\n        \"description\": \"\"\n      }\n    },\n    {\n      \"column\": \"trtbps\",\n      \"properties\": {\n        \"dtype\": \"number\",\n        \"std\": 13,\n        \"min\": 110,\n        \"max\": 144,\n        \"num_unique_values\": 4,\n        \"samples\": [\n          110,\n          130\n        ],\n        \"semantic_type\": \"\",\n        \"description\": \"\"\n      }\n    },\n    {\n      \"column\": \"chol\",\n      \"properties\": {\n        \"dtype\": \"number\",\n        \"std\": 52,\n        \"min\": 131,\n        \"max\": 264,\n        \"num_unique_values\": 5,\n        \"samples\": [\n          264,\n          236\n        ],\n        \"semantic_type\": \"\",\n        \"description\": \"\"\n      }\n    },\n    {\n      \"column\": \"fbs\",\n      \"properties\": {\n        \"dtype\": \"number\",\n        \"std\": 0,\n        \"min\": 0,\n        \"max\": 1,\n        \"num_unique_values\": 2,\n        \"samples\": [\n          1,\n          0\n        ],\n        \"semantic_type\": \"\",\n        \"description\": \"\"\n      }\n    },\n    {\n      \"column\": \"restecg\",\n      \"properties\": {\n        \"dtype\": \"number\",\n        \"std\": 0,\n        \"min\": 0,\n        \"max\": 1,\n        \"num_unique_values\": 2,\n        \"samples\": [\n          0,\n          1\n        ],\n        \"semantic_type\": \"\",\n        \"description\": \"\"\n      }\n    },\n    {\n      \"column\": \"thalachh\",\n      \"properties\": {\n        \"dtype\": \"number\",\n        \"std\": 22,\n        \"min\": 115,\n        \"max\": 174,\n        \"num_unique_values\": 5,\n        \"samples\": [\n          132,\n          174\n        ],\n        \"semantic_type\": \"\",\n        \"description\": \"\"\n      }\n    },\n    {\n      \"column\": \"exng\",\n      \"properties\": {\n        \"dtype\": \"number\",\n        \"std\": 0,\n        \"min\": 0,\n        \"max\": 1,\n        \"num_unique_values\": 2,\n        \"samples\": [\n          0,\n          1\n        ],\n        \"semantic_type\": \"\",\n        \"description\": \"\"\n      }\n    },\n    {\n      \"column\": \"oldpeak\",\n      \"properties\": {\n        \"dtype\": \"number\",\n        \"std\": 1.3490737563232043,\n        \"min\": 0.0,\n        \"max\": 3.4,\n        \"num_unique_values\": 4,\n        \"samples\": [\n          1.2,\n          0.0\n        ],\n        \"semantic_type\": \"\",\n        \"description\": \"\"\n      }\n    },\n    {\n      \"column\": \"slp\",\n      \"properties\": {\n        \"dtype\": \"number\",\n        \"std\": 0,\n        \"min\": 1,\n        \"max\": 1,\n        \"num_unique_values\": 1,\n        \"samples\": [\n          1\n        ],\n        \"semantic_type\": \"\",\n        \"description\": \"\"\n      }\n    },\n    {\n      \"column\": \"caa\",\n      \"properties\": {\n        \"dtype\": \"number\",\n        \"std\": 0,\n        \"min\": 0,\n        \"max\": 2,\n        \"num_unique_values\": 3,\n        \"samples\": [\n          0\n        ],\n        \"semantic_type\": \"\",\n        \"description\": \"\"\n      }\n    },\n    {\n      \"column\": \"thall\",\n      \"properties\": {\n        \"dtype\": \"number\",\n        \"std\": 0,\n        \"min\": 2,\n        \"max\": 3,\n        \"num_unique_values\": 2,\n        \"samples\": [\n          2\n        ],\n        \"semantic_type\": \"\",\n        \"description\": \"\"\n      }\n    },\n    {\n      \"column\": \"output\",\n      \"properties\": {\n        \"dtype\": \"number\",\n        \"std\": 0,\n        \"min\": 0,\n        \"max\": 0,\n        \"num_unique_values\": 1,\n        \"samples\": [\n          0\n        ],\n        \"semantic_type\": \"\",\n        \"description\": \"\"\n      }\n    }\n  ]\n}"
            }
          },
          "metadata": {},
          "execution_count": 17
        }
      ]
    },
    {
      "cell_type": "code",
      "execution_count": 18,
      "metadata": {
        "execution": {
          "iopub.execute_input": "2022-03-09T19:51:31.128604Z",
          "iopub.status.busy": "2022-03-09T19:51:31.127867Z",
          "iopub.status.idle": "2022-03-09T19:51:31.131575Z",
          "shell.execute_reply": "2022-03-09T19:51:31.131001Z",
          "shell.execute_reply.started": "2022-03-09T18:37:59.968873Z"
        },
        "papermill": {
          "duration": 0.058366,
          "end_time": "2022-03-09T19:51:31.131743",
          "exception": false,
          "start_time": "2022-03-09T19:51:31.073377",
          "status": "completed"
        },
        "tags": [],
        "colab": {
          "base_uri": "https://localhost:8080/"
        },
        "id": "8b27d607",
        "outputId": "0978167f-3469-4532-e00a-43002f668d7d"
      },
      "outputs": [
        {
          "output_type": "stream",
          "name": "stdout",
          "text": [
            "<class 'pandas.core.frame.DataFrame'>\n",
            "RangeIndex: 303 entries, 0 to 302\n",
            "Data columns (total 14 columns):\n",
            " #   Column    Non-Null Count  Dtype  \n",
            "---  ------    --------------  -----  \n",
            " 0   age       303 non-null    int64  \n",
            " 1   sex       303 non-null    int64  \n",
            " 2   cp        303 non-null    int64  \n",
            " 3   trtbps    303 non-null    int64  \n",
            " 4   chol      303 non-null    int64  \n",
            " 5   fbs       303 non-null    int64  \n",
            " 6   restecg   303 non-null    int64  \n",
            " 7   thalachh  303 non-null    int64  \n",
            " 8   exng      303 non-null    int64  \n",
            " 9   oldpeak   303 non-null    float64\n",
            " 10  slp       303 non-null    int64  \n",
            " 11  caa       303 non-null    int64  \n",
            " 12  thall     303 non-null    int64  \n",
            " 13  output    303 non-null    int64  \n",
            "dtypes: float64(1), int64(13)\n",
            "memory usage: 33.3 KB\n"
          ]
        }
      ],
      "source": [
        "df.info()"
      ]
    },
    {
      "cell_type": "code",
      "execution_count": 19,
      "metadata": {
        "execution": {
          "iopub.execute_input": "2022-03-09T19:51:31.196603Z",
          "iopub.status.busy": "2022-03-09T19:51:31.195409Z",
          "iopub.status.idle": "2022-03-09T19:51:31.239410Z",
          "shell.execute_reply": "2022-03-09T19:51:31.239898Z",
          "shell.execute_reply.started": "2022-03-09T18:37:59.986076Z"
        },
        "papermill": {
          "duration": 0.081237,
          "end_time": "2022-03-09T19:51:31.240083",
          "exception": false,
          "start_time": "2022-03-09T19:51:31.158846",
          "status": "completed"
        },
        "tags": [],
        "colab": {
          "base_uri": "https://localhost:8080/",
          "height": 488
        },
        "id": "e3a88219",
        "outputId": "bc58ed8a-df15-49cb-855a-e5cfa0fe03ec"
      },
      "outputs": [
        {
          "output_type": "execute_result",
          "data": {
            "text/plain": [
              "          count        mean        std    min    25%    50%    75%    max\n",
              "age       303.0   54.366337   9.082101   29.0   47.5   55.0   61.0   77.0\n",
              "sex       303.0    0.683168   0.466011    0.0    0.0    1.0    1.0    1.0\n",
              "cp        303.0    0.966997   1.032052    0.0    0.0    1.0    2.0    3.0\n",
              "trtbps    303.0  131.623762  17.538143   94.0  120.0  130.0  140.0  200.0\n",
              "chol      303.0  246.264026  51.830751  126.0  211.0  240.0  274.5  564.0\n",
              "fbs       303.0    0.148515   0.356198    0.0    0.0    0.0    0.0    1.0\n",
              "restecg   303.0    0.528053   0.525860    0.0    0.0    1.0    1.0    2.0\n",
              "thalachh  303.0  149.646865  22.905161   71.0  133.5  153.0  166.0  202.0\n",
              "exng      303.0    0.326733   0.469794    0.0    0.0    0.0    1.0    1.0\n",
              "oldpeak   303.0    1.039604   1.161075    0.0    0.0    0.8    1.6    6.2\n",
              "slp       303.0    1.399340   0.616226    0.0    1.0    1.0    2.0    2.0\n",
              "caa       303.0    0.729373   1.022606    0.0    0.0    0.0    1.0    4.0\n",
              "thall     303.0    2.313531   0.612277    0.0    2.0    2.0    3.0    3.0\n",
              "output    303.0    0.544554   0.498835    0.0    0.0    1.0    1.0    1.0"
            ],
            "text/html": [
              "\n",
              "  <div id=\"df-a047522d-2385-425f-9524-8172a2de8cff\" class=\"colab-df-container\">\n",
              "    <div>\n",
              "<style scoped>\n",
              "    .dataframe tbody tr th:only-of-type {\n",
              "        vertical-align: middle;\n",
              "    }\n",
              "\n",
              "    .dataframe tbody tr th {\n",
              "        vertical-align: top;\n",
              "    }\n",
              "\n",
              "    .dataframe thead th {\n",
              "        text-align: right;\n",
              "    }\n",
              "</style>\n",
              "<table border=\"1\" class=\"dataframe\">\n",
              "  <thead>\n",
              "    <tr style=\"text-align: right;\">\n",
              "      <th></th>\n",
              "      <th>count</th>\n",
              "      <th>mean</th>\n",
              "      <th>std</th>\n",
              "      <th>min</th>\n",
              "      <th>25%</th>\n",
              "      <th>50%</th>\n",
              "      <th>75%</th>\n",
              "      <th>max</th>\n",
              "    </tr>\n",
              "  </thead>\n",
              "  <tbody>\n",
              "    <tr>\n",
              "      <th>age</th>\n",
              "      <td>303.0</td>\n",
              "      <td>54.366337</td>\n",
              "      <td>9.082101</td>\n",
              "      <td>29.0</td>\n",
              "      <td>47.5</td>\n",
              "      <td>55.0</td>\n",
              "      <td>61.0</td>\n",
              "      <td>77.0</td>\n",
              "    </tr>\n",
              "    <tr>\n",
              "      <th>sex</th>\n",
              "      <td>303.0</td>\n",
              "      <td>0.683168</td>\n",
              "      <td>0.466011</td>\n",
              "      <td>0.0</td>\n",
              "      <td>0.0</td>\n",
              "      <td>1.0</td>\n",
              "      <td>1.0</td>\n",
              "      <td>1.0</td>\n",
              "    </tr>\n",
              "    <tr>\n",
              "      <th>cp</th>\n",
              "      <td>303.0</td>\n",
              "      <td>0.966997</td>\n",
              "      <td>1.032052</td>\n",
              "      <td>0.0</td>\n",
              "      <td>0.0</td>\n",
              "      <td>1.0</td>\n",
              "      <td>2.0</td>\n",
              "      <td>3.0</td>\n",
              "    </tr>\n",
              "    <tr>\n",
              "      <th>trtbps</th>\n",
              "      <td>303.0</td>\n",
              "      <td>131.623762</td>\n",
              "      <td>17.538143</td>\n",
              "      <td>94.0</td>\n",
              "      <td>120.0</td>\n",
              "      <td>130.0</td>\n",
              "      <td>140.0</td>\n",
              "      <td>200.0</td>\n",
              "    </tr>\n",
              "    <tr>\n",
              "      <th>chol</th>\n",
              "      <td>303.0</td>\n",
              "      <td>246.264026</td>\n",
              "      <td>51.830751</td>\n",
              "      <td>126.0</td>\n",
              "      <td>211.0</td>\n",
              "      <td>240.0</td>\n",
              "      <td>274.5</td>\n",
              "      <td>564.0</td>\n",
              "    </tr>\n",
              "    <tr>\n",
              "      <th>fbs</th>\n",
              "      <td>303.0</td>\n",
              "      <td>0.148515</td>\n",
              "      <td>0.356198</td>\n",
              "      <td>0.0</td>\n",
              "      <td>0.0</td>\n",
              "      <td>0.0</td>\n",
              "      <td>0.0</td>\n",
              "      <td>1.0</td>\n",
              "    </tr>\n",
              "    <tr>\n",
              "      <th>restecg</th>\n",
              "      <td>303.0</td>\n",
              "      <td>0.528053</td>\n",
              "      <td>0.525860</td>\n",
              "      <td>0.0</td>\n",
              "      <td>0.0</td>\n",
              "      <td>1.0</td>\n",
              "      <td>1.0</td>\n",
              "      <td>2.0</td>\n",
              "    </tr>\n",
              "    <tr>\n",
              "      <th>thalachh</th>\n",
              "      <td>303.0</td>\n",
              "      <td>149.646865</td>\n",
              "      <td>22.905161</td>\n",
              "      <td>71.0</td>\n",
              "      <td>133.5</td>\n",
              "      <td>153.0</td>\n",
              "      <td>166.0</td>\n",
              "      <td>202.0</td>\n",
              "    </tr>\n",
              "    <tr>\n",
              "      <th>exng</th>\n",
              "      <td>303.0</td>\n",
              "      <td>0.326733</td>\n",
              "      <td>0.469794</td>\n",
              "      <td>0.0</td>\n",
              "      <td>0.0</td>\n",
              "      <td>0.0</td>\n",
              "      <td>1.0</td>\n",
              "      <td>1.0</td>\n",
              "    </tr>\n",
              "    <tr>\n",
              "      <th>oldpeak</th>\n",
              "      <td>303.0</td>\n",
              "      <td>1.039604</td>\n",
              "      <td>1.161075</td>\n",
              "      <td>0.0</td>\n",
              "      <td>0.0</td>\n",
              "      <td>0.8</td>\n",
              "      <td>1.6</td>\n",
              "      <td>6.2</td>\n",
              "    </tr>\n",
              "    <tr>\n",
              "      <th>slp</th>\n",
              "      <td>303.0</td>\n",
              "      <td>1.399340</td>\n",
              "      <td>0.616226</td>\n",
              "      <td>0.0</td>\n",
              "      <td>1.0</td>\n",
              "      <td>1.0</td>\n",
              "      <td>2.0</td>\n",
              "      <td>2.0</td>\n",
              "    </tr>\n",
              "    <tr>\n",
              "      <th>caa</th>\n",
              "      <td>303.0</td>\n",
              "      <td>0.729373</td>\n",
              "      <td>1.022606</td>\n",
              "      <td>0.0</td>\n",
              "      <td>0.0</td>\n",
              "      <td>0.0</td>\n",
              "      <td>1.0</td>\n",
              "      <td>4.0</td>\n",
              "    </tr>\n",
              "    <tr>\n",
              "      <th>thall</th>\n",
              "      <td>303.0</td>\n",
              "      <td>2.313531</td>\n",
              "      <td>0.612277</td>\n",
              "      <td>0.0</td>\n",
              "      <td>2.0</td>\n",
              "      <td>2.0</td>\n",
              "      <td>3.0</td>\n",
              "      <td>3.0</td>\n",
              "    </tr>\n",
              "    <tr>\n",
              "      <th>output</th>\n",
              "      <td>303.0</td>\n",
              "      <td>0.544554</td>\n",
              "      <td>0.498835</td>\n",
              "      <td>0.0</td>\n",
              "      <td>0.0</td>\n",
              "      <td>1.0</td>\n",
              "      <td>1.0</td>\n",
              "      <td>1.0</td>\n",
              "    </tr>\n",
              "  </tbody>\n",
              "</table>\n",
              "</div>\n",
              "    <div class=\"colab-df-buttons\">\n",
              "\n",
              "  <div class=\"colab-df-container\">\n",
              "    <button class=\"colab-df-convert\" onclick=\"convertToInteractive('df-a047522d-2385-425f-9524-8172a2de8cff')\"\n",
              "            title=\"Convert this dataframe to an interactive table.\"\n",
              "            style=\"display:none;\">\n",
              "\n",
              "  <svg xmlns=\"http://www.w3.org/2000/svg\" height=\"24px\" viewBox=\"0 -960 960 960\">\n",
              "    <path d=\"M120-120v-720h720v720H120Zm60-500h600v-160H180v160Zm220 220h160v-160H400v160Zm0 220h160v-160H400v160ZM180-400h160v-160H180v160Zm440 0h160v-160H620v160ZM180-180h160v-160H180v160Zm440 0h160v-160H620v160Z\"/>\n",
              "  </svg>\n",
              "    </button>\n",
              "\n",
              "  <style>\n",
              "    .colab-df-container {\n",
              "      display:flex;\n",
              "      gap: 12px;\n",
              "    }\n",
              "\n",
              "    .colab-df-convert {\n",
              "      background-color: #E8F0FE;\n",
              "      border: none;\n",
              "      border-radius: 50%;\n",
              "      cursor: pointer;\n",
              "      display: none;\n",
              "      fill: #1967D2;\n",
              "      height: 32px;\n",
              "      padding: 0 0 0 0;\n",
              "      width: 32px;\n",
              "    }\n",
              "\n",
              "    .colab-df-convert:hover {\n",
              "      background-color: #E2EBFA;\n",
              "      box-shadow: 0px 1px 2px rgba(60, 64, 67, 0.3), 0px 1px 3px 1px rgba(60, 64, 67, 0.15);\n",
              "      fill: #174EA6;\n",
              "    }\n",
              "\n",
              "    .colab-df-buttons div {\n",
              "      margin-bottom: 4px;\n",
              "    }\n",
              "\n",
              "    [theme=dark] .colab-df-convert {\n",
              "      background-color: #3B4455;\n",
              "      fill: #D2E3FC;\n",
              "    }\n",
              "\n",
              "    [theme=dark] .colab-df-convert:hover {\n",
              "      background-color: #434B5C;\n",
              "      box-shadow: 0px 1px 3px 1px rgba(0, 0, 0, 0.15);\n",
              "      filter: drop-shadow(0px 1px 2px rgba(0, 0, 0, 0.3));\n",
              "      fill: #FFFFFF;\n",
              "    }\n",
              "  </style>\n",
              "\n",
              "    <script>\n",
              "      const buttonEl =\n",
              "        document.querySelector('#df-a047522d-2385-425f-9524-8172a2de8cff button.colab-df-convert');\n",
              "      buttonEl.style.display =\n",
              "        google.colab.kernel.accessAllowed ? 'block' : 'none';\n",
              "\n",
              "      async function convertToInteractive(key) {\n",
              "        const element = document.querySelector('#df-a047522d-2385-425f-9524-8172a2de8cff');\n",
              "        const dataTable =\n",
              "          await google.colab.kernel.invokeFunction('convertToInteractive',\n",
              "                                                    [key], {});\n",
              "        if (!dataTable) return;\n",
              "\n",
              "        const docLinkHtml = 'Like what you see? Visit the ' +\n",
              "          '<a target=\"_blank\" href=https://colab.research.google.com/notebooks/data_table.ipynb>data table notebook</a>'\n",
              "          + ' to learn more about interactive tables.';\n",
              "        element.innerHTML = '';\n",
              "        dataTable['output_type'] = 'display_data';\n",
              "        await google.colab.output.renderOutput(dataTable, element);\n",
              "        const docLink = document.createElement('div');\n",
              "        docLink.innerHTML = docLinkHtml;\n",
              "        element.appendChild(docLink);\n",
              "      }\n",
              "    </script>\n",
              "  </div>\n",
              "\n",
              "\n",
              "<div id=\"df-b670a678-b535-49f3-9d5a-70567c404a86\">\n",
              "  <button class=\"colab-df-quickchart\" onclick=\"quickchart('df-b670a678-b535-49f3-9d5a-70567c404a86')\"\n",
              "            title=\"Suggest charts\"\n",
              "            style=\"display:none;\">\n",
              "\n",
              "<svg xmlns=\"http://www.w3.org/2000/svg\" height=\"24px\"viewBox=\"0 0 24 24\"\n",
              "     width=\"24px\">\n",
              "    <g>\n",
              "        <path d=\"M19 3H5c-1.1 0-2 .9-2 2v14c0 1.1.9 2 2 2h14c1.1 0 2-.9 2-2V5c0-1.1-.9-2-2-2zM9 17H7v-7h2v7zm4 0h-2V7h2v10zm4 0h-2v-4h2v4z\"/>\n",
              "    </g>\n",
              "</svg>\n",
              "  </button>\n",
              "\n",
              "<style>\n",
              "  .colab-df-quickchart {\n",
              "      --bg-color: #E8F0FE;\n",
              "      --fill-color: #1967D2;\n",
              "      --hover-bg-color: #E2EBFA;\n",
              "      --hover-fill-color: #174EA6;\n",
              "      --disabled-fill-color: #AAA;\n",
              "      --disabled-bg-color: #DDD;\n",
              "  }\n",
              "\n",
              "  [theme=dark] .colab-df-quickchart {\n",
              "      --bg-color: #3B4455;\n",
              "      --fill-color: #D2E3FC;\n",
              "      --hover-bg-color: #434B5C;\n",
              "      --hover-fill-color: #FFFFFF;\n",
              "      --disabled-bg-color: #3B4455;\n",
              "      --disabled-fill-color: #666;\n",
              "  }\n",
              "\n",
              "  .colab-df-quickchart {\n",
              "    background-color: var(--bg-color);\n",
              "    border: none;\n",
              "    border-radius: 50%;\n",
              "    cursor: pointer;\n",
              "    display: none;\n",
              "    fill: var(--fill-color);\n",
              "    height: 32px;\n",
              "    padding: 0;\n",
              "    width: 32px;\n",
              "  }\n",
              "\n",
              "  .colab-df-quickchart:hover {\n",
              "    background-color: var(--hover-bg-color);\n",
              "    box-shadow: 0 1px 2px rgba(60, 64, 67, 0.3), 0 1px 3px 1px rgba(60, 64, 67, 0.15);\n",
              "    fill: var(--button-hover-fill-color);\n",
              "  }\n",
              "\n",
              "  .colab-df-quickchart-complete:disabled,\n",
              "  .colab-df-quickchart-complete:disabled:hover {\n",
              "    background-color: var(--disabled-bg-color);\n",
              "    fill: var(--disabled-fill-color);\n",
              "    box-shadow: none;\n",
              "  }\n",
              "\n",
              "  .colab-df-spinner {\n",
              "    border: 2px solid var(--fill-color);\n",
              "    border-color: transparent;\n",
              "    border-bottom-color: var(--fill-color);\n",
              "    animation:\n",
              "      spin 1s steps(1) infinite;\n",
              "  }\n",
              "\n",
              "  @keyframes spin {\n",
              "    0% {\n",
              "      border-color: transparent;\n",
              "      border-bottom-color: var(--fill-color);\n",
              "      border-left-color: var(--fill-color);\n",
              "    }\n",
              "    20% {\n",
              "      border-color: transparent;\n",
              "      border-left-color: var(--fill-color);\n",
              "      border-top-color: var(--fill-color);\n",
              "    }\n",
              "    30% {\n",
              "      border-color: transparent;\n",
              "      border-left-color: var(--fill-color);\n",
              "      border-top-color: var(--fill-color);\n",
              "      border-right-color: var(--fill-color);\n",
              "    }\n",
              "    40% {\n",
              "      border-color: transparent;\n",
              "      border-right-color: var(--fill-color);\n",
              "      border-top-color: var(--fill-color);\n",
              "    }\n",
              "    60% {\n",
              "      border-color: transparent;\n",
              "      border-right-color: var(--fill-color);\n",
              "    }\n",
              "    80% {\n",
              "      border-color: transparent;\n",
              "      border-right-color: var(--fill-color);\n",
              "      border-bottom-color: var(--fill-color);\n",
              "    }\n",
              "    90% {\n",
              "      border-color: transparent;\n",
              "      border-bottom-color: var(--fill-color);\n",
              "    }\n",
              "  }\n",
              "</style>\n",
              "\n",
              "  <script>\n",
              "    async function quickchart(key) {\n",
              "      const quickchartButtonEl =\n",
              "        document.querySelector('#' + key + ' button');\n",
              "      quickchartButtonEl.disabled = true;  // To prevent multiple clicks.\n",
              "      quickchartButtonEl.classList.add('colab-df-spinner');\n",
              "      try {\n",
              "        const charts = await google.colab.kernel.invokeFunction(\n",
              "            'suggestCharts', [key], {});\n",
              "      } catch (error) {\n",
              "        console.error('Error during call to suggestCharts:', error);\n",
              "      }\n",
              "      quickchartButtonEl.classList.remove('colab-df-spinner');\n",
              "      quickchartButtonEl.classList.add('colab-df-quickchart-complete');\n",
              "    }\n",
              "    (() => {\n",
              "      let quickchartButtonEl =\n",
              "        document.querySelector('#df-b670a678-b535-49f3-9d5a-70567c404a86 button');\n",
              "      quickchartButtonEl.style.display =\n",
              "        google.colab.kernel.accessAllowed ? 'block' : 'none';\n",
              "    })();\n",
              "  </script>\n",
              "</div>\n",
              "\n",
              "    </div>\n",
              "  </div>\n"
            ],
            "application/vnd.google.colaboratory.intrinsic+json": {
              "type": "dataframe",
              "summary": "{\n  \"name\": \"df\",\n  \"rows\": 14,\n  \"fields\": [\n    {\n      \"column\": \"count\",\n      \"properties\": {\n        \"dtype\": \"number\",\n        \"std\": 0.0,\n        \"min\": 303.0,\n        \"max\": 303.0,\n        \"num_unique_values\": 1,\n        \"samples\": [\n          303.0\n        ],\n        \"semantic_type\": \"\",\n        \"description\": \"\"\n      }\n    },\n    {\n      \"column\": \"mean\",\n      \"properties\": {\n        \"dtype\": \"number\",\n        \"std\": 77.66715456234161,\n        \"min\": 0.1485148514851485,\n        \"max\": 246.26402640264027,\n        \"num_unique_values\": 14,\n        \"samples\": [\n          1.0396039603960396\n        ],\n        \"semantic_type\": \"\",\n        \"description\": \"\"\n      }\n    },\n    {\n      \"column\": \"std\",\n      \"properties\": {\n        \"dtype\": \"number\",\n        \"std\": 14.601099749666268,\n        \"min\": 0.35619787492797644,\n        \"max\": 51.83075098793003,\n        \"num_unique_values\": 14,\n        \"samples\": [\n          1.1610750220686348\n        ],\n        \"semantic_type\": \"\",\n        \"description\": \"\"\n      }\n    },\n    {\n      \"column\": \"min\",\n      \"properties\": {\n        \"dtype\": \"number\",\n        \"std\": 42.31722170402085,\n        \"min\": 0.0,\n        \"max\": 126.0,\n        \"num_unique_values\": 5,\n        \"samples\": [\n          0.0\n        ],\n        \"semantic_type\": \"\",\n        \"description\": \"\"\n      }\n    },\n    {\n      \"column\": \"25%\",\n      \"properties\": {\n        \"dtype\": \"number\",\n        \"std\": 67.9705010352948,\n        \"min\": 0.0,\n        \"max\": 211.0,\n        \"num_unique_values\": 7,\n        \"samples\": [\n          47.5\n        ],\n        \"semantic_type\": \"\",\n        \"description\": \"\"\n      }\n    },\n    {\n      \"column\": \"50%\",\n      \"properties\": {\n        \"dtype\": \"number\",\n        \"std\": 76.67719262030833,\n        \"min\": 0.0,\n        \"max\": 240.0,\n        \"num_unique_values\": 8,\n        \"samples\": [\n          1.0\n        ],\n        \"semantic_type\": \"\",\n        \"description\": \"\"\n      }\n    },\n    {\n      \"column\": \"75%\",\n      \"properties\": {\n        \"dtype\": \"number\",\n        \"std\": 85.75358673176672,\n        \"min\": 0.0,\n        \"max\": 274.5,\n        \"num_unique_values\": 9,\n        \"samples\": [\n          1.6\n        ],\n        \"semantic_type\": \"\",\n        \"description\": \"\"\n      }\n    },\n    {\n      \"column\": \"max\",\n      \"properties\": {\n        \"dtype\": \"number\",\n        \"std\": 157.76377388883787,\n        \"min\": 1.0,\n        \"max\": 564.0,\n        \"num_unique_values\": 9,\n        \"samples\": [\n          6.2\n        ],\n        \"semantic_type\": \"\",\n        \"description\": \"\"\n      }\n    }\n  ]\n}"
            }
          },
          "metadata": {},
          "execution_count": 19
        }
      ],
      "source": [
        "df.describe().T"
      ]
    },
    {
      "cell_type": "code",
      "execution_count": 20,
      "metadata": {
        "execution": {
          "iopub.execute_input": "2022-03-09T19:51:31.303275Z",
          "iopub.status.busy": "2022-03-09T19:51:31.302473Z",
          "iopub.status.idle": "2022-03-09T19:51:31.896247Z",
          "shell.execute_reply": "2022-03-09T19:51:31.896700Z",
          "shell.execute_reply.started": "2022-03-09T18:38:00.041297Z"
        },
        "papermill": {
          "duration": 0.628425,
          "end_time": "2022-03-09T19:51:31.896870",
          "exception": false,
          "start_time": "2022-03-09T19:51:31.268445",
          "status": "completed"
        },
        "tags": [],
        "colab": {
          "base_uri": "https://localhost:8080/",
          "height": 724
        },
        "id": "3e61cf60",
        "outputId": "19de1e80-513f-498a-85b2-5bad21af76fa"
      },
      "outputs": [
        {
          "output_type": "stream",
          "name": "stdout",
          "text": [
            "Missing value:  0\n"
          ]
        },
        {
          "output_type": "display_data",
          "data": {
            "text/plain": [
              "<Figure size 2500x1000 with 2 Axes>"
            ],
            "image/png": "[encoded data removed]"
          },
          "metadata": {}
        }
      ],
      "source": [
        "# Cek missing value\n",
        "import missingno as msng\n",
        "msng.matrix(df)\n",
        "print('Missing value: ',df.isnull().sum().sum())"
      ]
    },
    {
      "cell_type": "markdown",
      "source": [
        "Tidak ada missing value atau data yang kosong"
      ],
      "metadata": {
        "id": "ytUIel73o55_"
      }
    },
    {
      "cell_type": "code",
      "execution_count": 21,
      "metadata": {
        "execution": {
          "iopub.execute_input": "2022-03-09T19:51:32.018332Z",
          "iopub.status.busy": "2022-03-09T19:51:32.017335Z",
          "iopub.status.idle": "2022-03-09T19:51:32.192988Z",
          "shell.execute_reply": "2022-03-09T19:51:32.193416Z",
          "shell.execute_reply.started": "2022-03-09T18:38:00.525568Z"
        },
        "papermill": {
          "duration": 0.210701,
          "end_time": "2022-03-09T19:51:32.193621",
          "exception": false,
          "start_time": "2022-03-09T19:51:31.982920",
          "status": "completed"
        },
        "tags": [],
        "colab": {
          "base_uri": "https://localhost:8080/",
          "height": 466
        },
        "id": "0e54139d",
        "outputId": "1d4961a7-4adc-492d-9dab-ef6f3e5e041a"
      },
      "outputs": [
        {
          "output_type": "execute_result",
          "data": {
            "text/plain": [
              "<Axes: xlabel='output', ylabel='count'>"
            ]
          },
          "metadata": {},
          "execution_count": 21
        },
        {
          "output_type": "display_data",
          "data": {
            "text/plain": [
              "<Figure size 640x480 with 1 Axes>"
            ],
            "image/png": "[encoded data removed]"
          },
          "metadata": {}
        }
      ],
      "source": [
        "# Number of positive and negative classes\n",
        "sns.countplot(x=df['output'])\n"
      ]
    },
    {
      "cell_type": "markdown",
      "metadata": {
        "papermill": {
          "duration": 0.029529,
          "end_time": "2022-03-09T19:51:32.253721",
          "exception": false,
          "start_time": "2022-03-09T19:51:32.224192",
          "status": "completed"
        },
        "tags": [],
        "id": "66e66d0e"
      },
      "source": [
        "Note: Dataset tidak seimbang dikarenakan lebih banyak data dengan label 1\n",
        "*   0 = Tidak adanya  penyakit jantung\n",
        "*   1 = Ada penyakit jantung"
      ]
    },
    {
      "cell_type": "code",
      "execution_count": 24,
      "metadata": {
        "execution": {
          "iopub.execute_input": "2022-03-09T19:51:32.317829Z",
          "iopub.status.busy": "2022-03-09T19:51:32.317152Z",
          "iopub.status.idle": "2022-03-09T19:51:32.518116Z",
          "shell.execute_reply": "2022-03-09T19:51:32.517538Z",
          "shell.execute_reply.started": "2022-03-09T18:38:00.699597Z"
        },
        "papermill": {
          "duration": 0.234887,
          "end_time": "2022-03-09T19:51:32.518273",
          "exception": false,
          "start_time": "2022-03-09T19:51:32.283386",
          "status": "completed"
        },
        "tags": [],
        "id": "f8391af2",
        "colab": {
          "base_uri": "https://localhost:8080/",
          "height": 466
        },
        "outputId": "72d2e304-2745-45fc-d592-49db2669593d"
      },
      "outputs": [
        {
          "output_type": "execute_result",
          "data": {
            "text/plain": [
              "<Axes: xlabel='output', ylabel='count'>"
            ]
          },
          "metadata": {},
          "execution_count": 24
        },
        {
          "output_type": "display_data",
          "data": {
            "text/plain": [
              "<Figure size 640x480 with 1 Axes>"
            ],
            "image/png": "[encoded data removed]"
          },
          "metadata": {}
        }
      ],
      "source": [
        "# percentage of female and male population with heart attack risk\n",
        "sns.countplot(x='output', hue='sex', data=df)"
      ]
    },
    {
      "cell_type": "code",
      "execution_count": 27,
      "metadata": {
        "execution": {
          "iopub.execute_input": "2022-03-09T19:51:32.596180Z",
          "iopub.status.busy": "2022-03-09T19:51:32.589738Z",
          "iopub.status.idle": "2022-03-09T19:51:32.811139Z",
          "shell.execute_reply": "2022-03-09T19:51:32.810593Z",
          "shell.execute_reply.started": "2022-03-09T18:38:00.898444Z"
        },
        "papermill": {
          "duration": 0.259955,
          "end_time": "2022-03-09T19:51:32.811293",
          "exception": false,
          "start_time": "2022-03-09T19:51:32.551338",
          "status": "completed"
        },
        "tags": [],
        "id": "d61b9dac",
        "colab": {
          "base_uri": "https://localhost:8080/",
          "height": 466
        },
        "outputId": "0a0b14d4-5fd3-4502-e017-a7ceb25d6ee0"
      },
      "outputs": [
        {
          "output_type": "execute_result",
          "data": {
            "text/plain": [
              "<Axes: xlabel='cp', ylabel='count'>"
            ]
          },
          "metadata": {},
          "execution_count": 27
        },
        {
          "output_type": "display_data",
          "data": {
            "text/plain": [
              "<Figure size 640x480 with 1 Axes>"
            ],
            "image/png": "[encoded data removed]"
          },
          "metadata": {}
        }
      ],
      "source": [
        "# Visualising chest pain classes subjected to low and high risk of heart attack\n",
        "sns.countplot(x='cp', hue='output', data=df)\n"
      ]
    },
    {
      "cell_type": "code",
      "execution_count": 31,
      "metadata": {
        "execution": {
          "iopub.execute_input": "2022-03-09T19:51:32.879296Z",
          "iopub.status.busy": "2022-03-09T19:51:32.878153Z",
          "iopub.status.idle": "2022-03-09T19:51:33.020666Z",
          "shell.execute_reply": "2022-03-09T19:51:33.019678Z",
          "shell.execute_reply.started": "2022-03-09T18:38:01.293833Z"
        },
        "papermill": {
          "duration": 0.177424,
          "end_time": "2022-03-09T19:51:33.020905",
          "exception": false,
          "start_time": "2022-03-09T19:51:32.843481",
          "status": "completed"
        },
        "tags": [],
        "id": "c74972d9",
        "colab": {
          "base_uri": "https://localhost:8080/",
          "height": 449
        },
        "outputId": "7479171f-50b0-467a-8ea1-4307a7bb12e5"
      },
      "outputs": [
        {
          "output_type": "display_data",
          "data": {
            "text/plain": [
              "<Figure size 640x480 with 1 Axes>"
            ],
            "image/png": "[encoded data removed]"
          },
          "metadata": {}
        }
      ],
      "source": [
        "# sns.countplot(df['cp'],hue=df['output'])\n",
        "sns.boxplot(df['age'],orient='h')\n",
        "plt.show()"
      ]
    },
    {
      "cell_type": "code",
      "execution_count": 32,
      "metadata": {
        "execution": {
          "iopub.execute_input": "2022-03-09T19:51:33.158567Z",
          "iopub.status.busy": "2022-03-09T19:51:33.157972Z",
          "iopub.status.idle": "2022-03-09T19:51:33.402818Z",
          "shell.execute_reply": "2022-03-09T19:51:33.403298Z",
          "shell.execute_reply.started": "2022-03-09T18:38:01.429224Z"
        },
        "papermill": {
          "duration": 0.280991,
          "end_time": "2022-03-09T19:51:33.403471",
          "exception": false,
          "start_time": "2022-03-09T19:51:33.122480",
          "status": "completed"
        },
        "tags": [],
        "id": "35e0bab0",
        "colab": {
          "base_uri": "https://localhost:8080/",
          "height": 640
        },
        "outputId": "d2778aed-851a-4fc0-9662-8ff6c7e85aad"
      },
      "outputs": [
        {
          "output_type": "stream",
          "name": "stderr",
          "text": [
            "<ipython-input-32-8a367af0304a>:2: UserWarning: \n",
            "\n",
            "`distplot` is a deprecated function and will be removed in seaborn v0.14.0.\n",
            "\n",
            "Please adapt your code to use either `displot` (a figure-level function with\n",
            "similar flexibility) or `histplot` (an axes-level function for histograms).\n",
            "\n",
            "For a guide to updating your code to use the new functions, please see\n",
            "https://gist.github.com/mwaskom/de44147ed2974457ad6372750bbe5751\n",
            "\n",
            "  sns.distplot(df['chol'])\n"
          ]
        },
        {
          "output_type": "display_data",
          "data": {
            "text/plain": [
              "<Figure size 640x480 with 1 Axes>"
            ],
            "image/png": "[encoded data removed]"
          },
          "metadata": {}
        }
      ],
      "source": [
        "# Distribution of cholestrol feature\n",
        "sns.distplot(df['chol'])\n",
        "plt.show()"
      ]
    },
    {
      "cell_type": "code",
      "execution_count": 34,
      "metadata": {
        "execution": {
          "iopub.execute_input": "2022-03-09T19:51:33.475095Z",
          "iopub.status.busy": "2022-03-09T19:51:33.474443Z",
          "iopub.status.idle": "2022-03-09T19:51:33.610860Z",
          "shell.execute_reply": "2022-03-09T19:51:33.611767Z",
          "shell.execute_reply.started": "2022-03-09T18:38:01.662509Z"
        },
        "papermill": {
          "duration": 0.174397,
          "end_time": "2022-03-09T19:51:33.612085",
          "exception": false,
          "start_time": "2022-03-09T19:51:33.437688",
          "status": "completed"
        },
        "tags": [],
        "id": "bd0cbbf0",
        "colab": {
          "base_uri": "https://localhost:8080/",
          "height": 449
        },
        "outputId": "653c967e-ba78-44d2-fa63-fdc5e86b3c46"
      },
      "outputs": [
        {
          "output_type": "display_data",
          "data": {
            "text/plain": [
              "<Figure size 640x480 with 1 Axes>"
            ],
            "image/png": "[encoded data removed]"
          },
          "metadata": {}
        }
      ],
      "source": [
        "# To detect outliers in the cholestrol\n",
        "sns.boxplot(df['chol'],orient='h')\n",
        "plt.show()"
      ]
    },
    {
      "cell_type": "markdown",
      "metadata": {
        "papermill": {
          "duration": 0.035645,
          "end_time": "2022-03-09T19:51:33.688012",
          "exception": false,
          "start_time": "2022-03-09T19:51:33.652367",
          "status": "completed"
        },
        "tags": [],
        "id": "97d19290"
      },
      "source": [
        "Catatan:\n",
        "Outlier ini tidak dapat dihilangkan karena kolestrol yang lebih tinggi dapat terjadi pada beberapa orang yang dapat menyebabkan risiko serangan jantung yang lebih tinggi, oleh karena itu tidak dapat dihilangkan."
      ]
    },
    {
      "cell_type": "code",
      "execution_count": 35,
      "metadata": {
        "execution": {
          "iopub.execute_input": "2022-03-09T19:52:08.091124Z",
          "iopub.status.busy": "2022-03-09T19:52:08.090364Z",
          "iopub.status.idle": "2022-03-09T19:52:08.695424Z",
          "shell.execute_reply": "2022-03-09T19:52:08.695949Z",
          "shell.execute_reply.started": "2022-03-09T18:38:37.675016Z"
        },
        "papermill": {
          "duration": 0.661402,
          "end_time": "2022-03-09T19:52:08.696127",
          "exception": false,
          "start_time": "2022-03-09T19:52:08.034725",
          "status": "completed"
        },
        "tags": [],
        "id": "d9c40d74",
        "colab": {
          "base_uri": "https://localhost:8080/",
          "height": 545
        },
        "outputId": "183c2175-287e-467e-ae69-b70b0d7f087d"
      },
      "outputs": [
        {
          "output_type": "display_data",
          "data": {
            "text/plain": [
              "<Figure size 1200x600 with 2 Axes>"
            ],
            "image/png": "[encoded data removed]"
          },
          "metadata": {}
        }
      ],
      "source": [
        "# Checking for multicolinearity\n",
        "plt.figure(figsize=(12,6))\n",
        "df2 = df.drop('output',axis=1)\n",
        "corr = df2.corr()\n",
        "matrix =  np.triu(np.ones_like(corr))\n",
        "\n",
        "sns.heatmap(corr,annot=True,mask=matrix,cmap='RdPu')\n",
        "plt.title('Correlation Map')\n",
        "plt.show()"
      ]
    },
    {
      "cell_type": "markdown",
      "source": [
        "# **5. Pembagian Data**"
      ],
      "metadata": {
        "id": "S0DgI3vnBF9m"
      }
    },
    {
      "cell_type": "code",
      "source": [
        "X = df.values[:, :-1] # independen feature\n",
        "y = df.values[:, -1] # dependen feature/ label"
      ],
      "metadata": {
        "id": "C8Js9kFS_xOP"
      },
      "execution_count": 36,
      "outputs": []
    },
    {
      "cell_type": "code",
      "source": [
        "X[0:4]"
      ],
      "metadata": {
        "id": "ruwO602U_x3B",
        "colab": {
          "base_uri": "https://localhost:8080/"
        },
        "outputId": "a54c1256-355c-4018-e762-95f17983d3d0"
      },
      "execution_count": 37,
      "outputs": [
        {
          "output_type": "execute_result",
          "data": {
            "text/plain": [
              "array([[ 63. ,   1. ,   3. , 145. , 233. ,   1. ,   0. , 150. ,   0. ,\n",
              "          2.3,   0. ,   0. ,   1. ],\n",
              "       [ 37. ,   1. ,   2. , 130. , 250. ,   0. ,   1. , 187. ,   0. ,\n",
              "          3.5,   0. ,   0. ,   2. ],\n",
              "       [ 41. ,   0. ,   1. , 130. , 204. ,   0. ,   0. , 172. ,   0. ,\n",
              "          1.4,   2. ,   0. ,   2. ],\n",
              "       [ 56. ,   1. ,   1. , 120. , 236. ,   0. ,   1. , 178. ,   0. ,\n",
              "          0.8,   2. ,   0. ,   2. ]])"
            ]
          },
          "metadata": {},
          "execution_count": 37
        }
      ]
    },
    {
      "cell_type": "code",
      "source": [
        "y # Label/target"
      ],
      "metadata": {
        "id": "MCvVNuK1_1cr",
        "colab": {
          "base_uri": "https://localhost:8080/"
        },
        "outputId": "f788f2ba-9f8b-4f9a-fc2d-82b7ad8246d5"
      },
      "execution_count": 38,
      "outputs": [
        {
          "output_type": "execute_result",
          "data": {
            "text/plain": [
              "array([1., 1., 1., 1., 1., 1., 1., 1., 1., 1., 1., 1., 1., 1., 1., 1., 1.,\n",
              "       1., 1., 1., 1., 1., 1., 1., 1., 1., 1., 1., 1., 1., 1., 1., 1., 1.,\n",
              "       1., 1., 1., 1., 1., 1., 1., 1., 1., 1., 1., 1., 1., 1., 1., 1., 1.,\n",
              "       1., 1., 1., 1., 1., 1., 1., 1., 1., 1., 1., 1., 1., 1., 1., 1., 1.,\n",
              "       1., 1., 1., 1., 1., 1., 1., 1., 1., 1., 1., 1., 1., 1., 1., 1., 1.,\n",
              "       1., 1., 1., 1., 1., 1., 1., 1., 1., 1., 1., 1., 1., 1., 1., 1., 1.,\n",
              "       1., 1., 1., 1., 1., 1., 1., 1., 1., 1., 1., 1., 1., 1., 1., 1., 1.,\n",
              "       1., 1., 1., 1., 1., 1., 1., 1., 1., 1., 1., 1., 1., 1., 1., 1., 1.,\n",
              "       1., 1., 1., 1., 1., 1., 1., 1., 1., 1., 1., 1., 1., 1., 1., 1., 1.,\n",
              "       1., 1., 1., 1., 1., 1., 1., 1., 1., 1., 1., 1., 0., 0., 0., 0., 0.,\n",
              "       0., 0., 0., 0., 0., 0., 0., 0., 0., 0., 0., 0., 0., 0., 0., 0., 0.,\n",
              "       0., 0., 0., 0., 0., 0., 0., 0., 0., 0., 0., 0., 0., 0., 0., 0., 0.,\n",
              "       0., 0., 0., 0., 0., 0., 0., 0., 0., 0., 0., 0., 0., 0., 0., 0., 0.,\n",
              "       0., 0., 0., 0., 0., 0., 0., 0., 0., 0., 0., 0., 0., 0., 0., 0., 0.,\n",
              "       0., 0., 0., 0., 0., 0., 0., 0., 0., 0., 0., 0., 0., 0., 0., 0., 0.,\n",
              "       0., 0., 0., 0., 0., 0., 0., 0., 0., 0., 0., 0., 0., 0., 0., 0., 0.,\n",
              "       0., 0., 0., 0., 0., 0., 0., 0., 0., 0., 0., 0., 0., 0., 0., 0., 0.,\n",
              "       0., 0., 0., 0., 0., 0., 0., 0., 0., 0., 0., 0., 0., 0.])"
            ]
          },
          "metadata": {},
          "execution_count": 38
        }
      ]
    },
    {
      "cell_type": "code",
      "source": [
        "from sklearn.preprocessing import LabelEncoder # encode label nilai kategorik menjadi nilai numerik\n",
        "\n",
        "y = LabelEncoder().fit_transform(y) # encode label menjadi nilai numerik\n",
        "y"
      ],
      "metadata": {
        "id": "JskI30iJ_8jL",
        "colab": {
          "base_uri": "https://localhost:8080/"
        },
        "outputId": "580b9133-c6f4-43e6-99c4-4591a894f5f1"
      },
      "execution_count": 39,
      "outputs": [
        {
          "output_type": "execute_result",
          "data": {
            "text/plain": [
              "array([1, 1, 1, 1, 1, 1, 1, 1, 1, 1, 1, 1, 1, 1, 1, 1, 1, 1, 1, 1, 1, 1,\n",
              "       1, 1, 1, 1, 1, 1, 1, 1, 1, 1, 1, 1, 1, 1, 1, 1, 1, 1, 1, 1, 1, 1,\n",
              "       1, 1, 1, 1, 1, 1, 1, 1, 1, 1, 1, 1, 1, 1, 1, 1, 1, 1, 1, 1, 1, 1,\n",
              "       1, 1, 1, 1, 1, 1, 1, 1, 1, 1, 1, 1, 1, 1, 1, 1, 1, 1, 1, 1, 1, 1,\n",
              "       1, 1, 1, 1, 1, 1, 1, 1, 1, 1, 1, 1, 1, 1, 1, 1, 1, 1, 1, 1, 1, 1,\n",
              "       1, 1, 1, 1, 1, 1, 1, 1, 1, 1, 1, 1, 1, 1, 1, 1, 1, 1, 1, 1, 1, 1,\n",
              "       1, 1, 1, 1, 1, 1, 1, 1, 1, 1, 1, 1, 1, 1, 1, 1, 1, 1, 1, 1, 1, 1,\n",
              "       1, 1, 1, 1, 1, 1, 1, 1, 1, 1, 1, 0, 0, 0, 0, 0, 0, 0, 0, 0, 0, 0,\n",
              "       0, 0, 0, 0, 0, 0, 0, 0, 0, 0, 0, 0, 0, 0, 0, 0, 0, 0, 0, 0, 0, 0,\n",
              "       0, 0, 0, 0, 0, 0, 0, 0, 0, 0, 0, 0, 0, 0, 0, 0, 0, 0, 0, 0, 0, 0,\n",
              "       0, 0, 0, 0, 0, 0, 0, 0, 0, 0, 0, 0, 0, 0, 0, 0, 0, 0, 0, 0, 0, 0,\n",
              "       0, 0, 0, 0, 0, 0, 0, 0, 0, 0, 0, 0, 0, 0, 0, 0, 0, 0, 0, 0, 0, 0,\n",
              "       0, 0, 0, 0, 0, 0, 0, 0, 0, 0, 0, 0, 0, 0, 0, 0, 0, 0, 0, 0, 0, 0,\n",
              "       0, 0, 0, 0, 0, 0, 0, 0, 0, 0, 0, 0, 0, 0, 0, 0, 0])"
            ]
          },
          "metadata": {},
          "execution_count": 39
        }
      ]
    },
    {
      "cell_type": "code",
      "source": [
        "from sklearn.model_selection import train_test_split\n",
        "\n",
        "# split dataset\n",
        "X_train, X_test, y_train, y_test = train_test_split(X, y, test_size=0.25, random_state=42)\n",
        "print(X_train.shape, X_test.shape, y_train.shape, y_test.shape)\n",
        "\n",
        "# memperoleh banyaknya jumlah fitur pada input\n",
        "# n_features = X_train.shape[1]\n",
        "# print(n_features)"
      ],
      "metadata": {
        "id": "hb1OerAtAHjK",
        "colab": {
          "base_uri": "https://localhost:8080/"
        },
        "outputId": "a3c1de19-91c4-496e-e449-a176e747cda7"
      },
      "execution_count": 40,
      "outputs": [
        {
          "output_type": "stream",
          "name": "stdout",
          "text": [
            "(227, 13) (76, 13) (227,) (76,)\n"
          ]
        }
      ]
    },
    {
      "cell_type": "markdown",
      "source": [
        "# **6. Artificial Neural Network**"
      ],
      "metadata": {
        "id": "OgSRok1ZAngB"
      }
    },
    {
      "cell_type": "markdown",
      "source": [
        "## **6.1 Define the Model**"
      ],
      "metadata": {
        "id": "FXXcwz4CA1b8"
      }
    },
    {
      "cell_type": "code",
      "source": [
        "import tensorflow as tf\n",
        "from tensorflow.keras import Sequential\n",
        "from tensorflow.keras.layers import Dense"
      ],
      "metadata": {
        "id": "I7sUKguCA775"
      },
      "execution_count": 41,
      "outputs": []
    },
    {
      "cell_type": "code",
      "source": [
        "n_features = X_train.shape[1]\n",
        "\n",
        "model = Sequential()\n",
        "model.add(Dense(10, activation='relu', input_shape=(n_features,))) #input layer\n",
        "model.add(Dense(24, activation='relu')) #hidden layer\n",
        "model.add(Dense(32, activation='relu')) #hidden layer\n",
        "model.add(Dense(24, activation='relu')) #hidden layer\n",
        "model.add(Dense(1, activation='sigmoid')) #output layer, biasanya dense output berdasarkan kategori\n",
        "\n",
        "model.summary()"
      ],
      "metadata": {
        "id": "e4WAJzIcBHZr",
        "colab": {
          "base_uri": "https://localhost:8080/"
        },
        "outputId": "8c35bc0c-d7a2-4381-9f28-02e3a281e28a"
      },
      "execution_count": 42,
      "outputs": [
        {
          "output_type": "stream",
          "name": "stdout",
          "text": [
            "Model: \"sequential\"\n",
            "_________________________________________________________________\n",
            " Layer (type)                Output Shape              Param #   \n",
            "=================================================================\n",
            " dense (Dense)               (None, 10)                140       \n",
            "                                                                 \n",
            " dense_1 (Dense)             (None, 24)                264       \n",
            "                                                                 \n",
            " dense_2 (Dense)             (None, 32)                800       \n",
            "                                                                 \n",
            " dense_3 (Dense)             (None, 24)                792       \n",
            "                                                                 \n",
            " dense_4 (Dense)             (None, 1)                 25        \n",
            "                                                                 \n",
            "=================================================================\n",
            "Total params: 2021 (7.89 KB)\n",
            "Trainable params: 2021 (7.89 KB)\n",
            "Non-trainable params: 0 (0.00 Byte)\n",
            "_________________________________________________________________\n"
          ]
        }
      ]
    },
    {
      "cell_type": "markdown",
      "source": [
        "## **6.2 Compile the Model**"
      ],
      "metadata": {
        "id": "Di4trnHNBW74"
      }
    },
    {
      "cell_type": "code",
      "source": [
        "model.compile(\n",
        "    optimizer='adam',\n",
        "    loss = 'binary_crossentropy',\n",
        "    metrics = ['accuracy']\n",
        ") #compile => proses mendeklarasikan optimizer, loss, dan metriks yang kita gunakan"
      ],
      "metadata": {
        "id": "51P5qtYrBc0x"
      },
      "execution_count": 43,
      "outputs": []
    },
    {
      "cell_type": "markdown",
      "source": [
        "## **6.3 Fit the Model**"
      ],
      "metadata": {
        "id": "px2qmRhCBh5w"
      }
    },
    {
      "cell_type": "code",
      "source": [
        "model.fit(\n",
        "    X_train,\n",
        "    y_train,\n",
        "    batch_size = 32,\n",
        "    epochs = 200, #jumlah latihan\n",
        "    verbose=2\n",
        "    ) #"
      ],
      "metadata": {
        "id": "PTajJKLYBosU",
        "colab": {
          "base_uri": "https://localhost:8080/"
        },
        "outputId": "cd675a41-28c1-432f-dbd3-e4062ef13605"
      },
      "execution_count": 44,
      "outputs": [
        {
          "output_type": "stream",
          "name": "stdout",
          "text": [
            "Epoch 1/200\n",
            "8/8 - 1s - loss: 1.9623 - accuracy: 0.4449 - 1s/epoch - 160ms/step\n",
            "Epoch 2/200\n",
            "8/8 - 0s - loss: 0.9653 - accuracy: 0.5374 - 18ms/epoch - 2ms/step\n",
            "Epoch 3/200\n",
            "8/8 - 0s - loss: 0.9087 - accuracy: 0.5374 - 19ms/epoch - 2ms/step\n",
            "Epoch 4/200\n",
            "8/8 - 0s - loss: 0.9520 - accuracy: 0.5507 - 19ms/epoch - 2ms/step\n",
            "Epoch 5/200\n",
            "8/8 - 0s - loss: 0.6978 - accuracy: 0.6256 - 19ms/epoch - 2ms/step\n",
            "Epoch 6/200\n",
            "8/8 - 0s - loss: 0.9013 - accuracy: 0.5242 - 19ms/epoch - 2ms/step\n",
            "Epoch 7/200\n",
            "8/8 - 0s - loss: 0.7099 - accuracy: 0.6300 - 19ms/epoch - 2ms/step\n",
            "Epoch 8/200\n",
            "8/8 - 0s - loss: 0.7119 - accuracy: 0.6123 - 18ms/epoch - 2ms/step\n",
            "Epoch 9/200\n",
            "8/8 - 0s - loss: 0.6409 - accuracy: 0.6300 - 20ms/epoch - 3ms/step\n",
            "Epoch 10/200\n",
            "8/8 - 0s - loss: 0.6282 - accuracy: 0.6344 - 20ms/epoch - 3ms/step\n",
            "Epoch 11/200\n",
            "8/8 - 0s - loss: 0.5929 - accuracy: 0.6608 - 19ms/epoch - 2ms/step\n",
            "Epoch 12/200\n",
            "8/8 - 0s - loss: 0.6410 - accuracy: 0.6520 - 19ms/epoch - 2ms/step\n",
            "Epoch 13/200\n",
            "8/8 - 0s - loss: 0.5998 - accuracy: 0.6784 - 20ms/epoch - 3ms/step\n",
            "Epoch 14/200\n",
            "8/8 - 0s - loss: 0.6118 - accuracy: 0.6652 - 18ms/epoch - 2ms/step\n",
            "Epoch 15/200\n",
            "8/8 - 0s - loss: 0.6540 - accuracy: 0.6256 - 19ms/epoch - 2ms/step\n",
            "Epoch 16/200\n",
            "8/8 - 0s - loss: 1.0974 - accuracy: 0.4714 - 18ms/epoch - 2ms/step\n",
            "Epoch 17/200\n",
            "8/8 - 0s - loss: 0.8247 - accuracy: 0.5815 - 18ms/epoch - 2ms/step\n",
            "Epoch 18/200\n",
            "8/8 - 0s - loss: 0.7864 - accuracy: 0.5947 - 18ms/epoch - 2ms/step\n",
            "Epoch 19/200\n",
            "8/8 - 0s - loss: 0.7281 - accuracy: 0.6167 - 20ms/epoch - 3ms/step\n",
            "Epoch 20/200\n",
            "8/8 - 0s - loss: 1.0607 - accuracy: 0.5639 - 19ms/epoch - 2ms/step\n",
            "Epoch 21/200\n",
            "8/8 - 0s - loss: 0.6785 - accuracy: 0.6388 - 21ms/epoch - 3ms/step\n",
            "Epoch 22/200\n",
            "8/8 - 0s - loss: 0.5921 - accuracy: 0.6784 - 19ms/epoch - 2ms/step\n",
            "Epoch 23/200\n",
            "8/8 - 0s - loss: 0.7622 - accuracy: 0.5595 - 22ms/epoch - 3ms/step\n",
            "Epoch 24/200\n",
            "8/8 - 0s - loss: 0.6159 - accuracy: 0.6828 - 26ms/epoch - 3ms/step\n",
            "Epoch 25/200\n",
            "8/8 - 0s - loss: 0.6773 - accuracy: 0.6432 - 20ms/epoch - 2ms/step\n",
            "Epoch 26/200\n",
            "8/8 - 0s - loss: 0.7698 - accuracy: 0.5683 - 22ms/epoch - 3ms/step\n",
            "Epoch 27/200\n",
            "8/8 - 0s - loss: 0.8053 - accuracy: 0.5903 - 19ms/epoch - 2ms/step\n",
            "Epoch 28/200\n",
            "8/8 - 0s - loss: 1.0185 - accuracy: 0.5374 - 18ms/epoch - 2ms/step\n",
            "Epoch 29/200\n",
            "8/8 - 0s - loss: 0.6811 - accuracy: 0.6564 - 18ms/epoch - 2ms/step\n",
            "Epoch 30/200\n",
            "8/8 - 0s - loss: 0.5752 - accuracy: 0.6828 - 17ms/epoch - 2ms/step\n",
            "Epoch 31/200\n",
            "8/8 - 0s - loss: 0.5924 - accuracy: 0.6740 - 18ms/epoch - 2ms/step\n",
            "Epoch 32/200\n",
            "8/8 - 0s - loss: 0.6002 - accuracy: 0.6784 - 19ms/epoch - 2ms/step\n",
            "Epoch 33/200\n",
            "8/8 - 0s - loss: 0.5981 - accuracy: 0.6828 - 17ms/epoch - 2ms/step\n",
            "Epoch 34/200\n",
            "8/8 - 0s - loss: 0.7698 - accuracy: 0.5947 - 18ms/epoch - 2ms/step\n",
            "Epoch 35/200\n",
            "8/8 - 0s - loss: 0.5793 - accuracy: 0.6784 - 18ms/epoch - 2ms/step\n",
            "Epoch 36/200\n",
            "8/8 - 0s - loss: 0.6194 - accuracy: 0.6520 - 22ms/epoch - 3ms/step\n",
            "Epoch 37/200\n",
            "8/8 - 0s - loss: 0.5993 - accuracy: 0.6608 - 21ms/epoch - 3ms/step\n",
            "Epoch 38/200\n",
            "8/8 - 0s - loss: 0.6353 - accuracy: 0.6256 - 17ms/epoch - 2ms/step\n",
            "Epoch 39/200\n",
            "8/8 - 0s - loss: 0.5997 - accuracy: 0.6652 - 18ms/epoch - 2ms/step\n",
            "Epoch 40/200\n",
            "8/8 - 0s - loss: 0.5626 - accuracy: 0.7048 - 19ms/epoch - 2ms/step\n",
            "Epoch 41/200\n",
            "8/8 - 0s - loss: 0.5620 - accuracy: 0.6828 - 25ms/epoch - 3ms/step\n",
            "Epoch 42/200\n",
            "8/8 - 0s - loss: 0.7730 - accuracy: 0.6079 - 26ms/epoch - 3ms/step\n",
            "Epoch 43/200\n",
            "8/8 - 0s - loss: 0.6023 - accuracy: 0.6652 - 25ms/epoch - 3ms/step\n",
            "Epoch 44/200\n",
            "8/8 - 0s - loss: 0.5579 - accuracy: 0.6652 - 26ms/epoch - 3ms/step\n",
            "Epoch 45/200\n",
            "8/8 - 0s - loss: 0.6286 - accuracy: 0.6520 - 27ms/epoch - 3ms/step\n",
            "Epoch 46/200\n",
            "8/8 - 0s - loss: 0.6556 - accuracy: 0.6520 - 25ms/epoch - 3ms/step\n",
            "Epoch 47/200\n",
            "8/8 - 0s - loss: 0.7146 - accuracy: 0.6256 - 26ms/epoch - 3ms/step\n",
            "Epoch 48/200\n",
            "8/8 - 0s - loss: 0.6698 - accuracy: 0.6432 - 23ms/epoch - 3ms/step\n",
            "Epoch 49/200\n",
            "8/8 - 0s - loss: 0.7540 - accuracy: 0.6035 - 24ms/epoch - 3ms/step\n",
            "Epoch 50/200\n",
            "8/8 - 0s - loss: 0.6991 - accuracy: 0.6300 - 28ms/epoch - 3ms/step\n",
            "Epoch 51/200\n",
            "8/8 - 0s - loss: 0.5997 - accuracy: 0.6608 - 25ms/epoch - 3ms/step\n",
            "Epoch 52/200\n",
            "8/8 - 0s - loss: 0.6456 - accuracy: 0.6476 - 29ms/epoch - 4ms/step\n",
            "Epoch 53/200\n",
            "8/8 - 0s - loss: 0.6374 - accuracy: 0.6564 - 24ms/epoch - 3ms/step\n",
            "Epoch 54/200\n",
            "8/8 - 0s - loss: 0.5662 - accuracy: 0.7048 - 24ms/epoch - 3ms/step\n",
            "Epoch 55/200\n",
            "8/8 - 0s - loss: 0.5852 - accuracy: 0.7004 - 38ms/epoch - 5ms/step\n",
            "Epoch 56/200\n",
            "8/8 - 0s - loss: 0.6262 - accuracy: 0.6608 - 24ms/epoch - 3ms/step\n",
            "Epoch 57/200\n",
            "8/8 - 0s - loss: 0.5444 - accuracy: 0.7093 - 19ms/epoch - 2ms/step\n",
            "Epoch 58/200\n",
            "8/8 - 0s - loss: 0.6051 - accuracy: 0.6828 - 19ms/epoch - 2ms/step\n",
            "Epoch 59/200\n",
            "8/8 - 0s - loss: 0.5394 - accuracy: 0.6916 - 19ms/epoch - 2ms/step\n",
            "Epoch 60/200\n",
            "8/8 - 0s - loss: 0.6569 - accuracy: 0.6256 - 18ms/epoch - 2ms/step\n",
            "Epoch 61/200\n",
            "8/8 - 0s - loss: 0.6918 - accuracy: 0.6344 - 20ms/epoch - 2ms/step\n",
            "Epoch 62/200\n",
            "8/8 - 0s - loss: 0.7469 - accuracy: 0.6035 - 29ms/epoch - 4ms/step\n",
            "Epoch 63/200\n",
            "8/8 - 0s - loss: 0.8024 - accuracy: 0.6167 - 21ms/epoch - 3ms/step\n",
            "Epoch 64/200\n",
            "8/8 - 0s - loss: 0.6739 - accuracy: 0.6432 - 21ms/epoch - 3ms/step\n",
            "Epoch 65/200\n",
            "8/8 - 0s - loss: 1.0127 - accuracy: 0.5595 - 22ms/epoch - 3ms/step\n",
            "Epoch 66/200\n",
            "8/8 - 0s - loss: 0.6956 - accuracy: 0.6564 - 19ms/epoch - 2ms/step\n",
            "Epoch 67/200\n",
            "8/8 - 0s - loss: 0.7519 - accuracy: 0.6520 - 19ms/epoch - 2ms/step\n",
            "Epoch 68/200\n",
            "8/8 - 0s - loss: 0.9444 - accuracy: 0.5154 - 21ms/epoch - 3ms/step\n",
            "Epoch 69/200\n",
            "8/8 - 0s - loss: 0.7534 - accuracy: 0.5683 - 19ms/epoch - 2ms/step\n",
            "Epoch 70/200\n",
            "8/8 - 0s - loss: 0.6834 - accuracy: 0.6564 - 17ms/epoch - 2ms/step\n",
            "Epoch 71/200\n",
            "8/8 - 0s - loss: 0.6368 - accuracy: 0.6432 - 18ms/epoch - 2ms/step\n",
            "Epoch 72/200\n",
            "8/8 - 0s - loss: 0.5919 - accuracy: 0.6784 - 18ms/epoch - 2ms/step\n",
            "Epoch 73/200\n",
            "8/8 - 0s - loss: 0.6106 - accuracy: 0.6652 - 17ms/epoch - 2ms/step\n",
            "Epoch 74/200\n",
            "8/8 - 0s - loss: 0.5590 - accuracy: 0.7137 - 20ms/epoch - 2ms/step\n",
            "Epoch 75/200\n",
            "8/8 - 0s - loss: 0.5246 - accuracy: 0.7357 - 17ms/epoch - 2ms/step\n",
            "Epoch 76/200\n",
            "8/8 - 0s - loss: 0.6530 - accuracy: 0.6652 - 19ms/epoch - 2ms/step\n",
            "Epoch 77/200\n",
            "8/8 - 0s - loss: 0.5872 - accuracy: 0.6652 - 26ms/epoch - 3ms/step\n",
            "Epoch 78/200\n",
            "8/8 - 0s - loss: 0.5342 - accuracy: 0.7048 - 24ms/epoch - 3ms/step\n",
            "Epoch 79/200\n",
            "8/8 - 0s - loss: 0.5475 - accuracy: 0.7225 - 26ms/epoch - 3ms/step\n",
            "Epoch 80/200\n",
            "8/8 - 0s - loss: 0.6233 - accuracy: 0.6167 - 27ms/epoch - 3ms/step\n",
            "Epoch 81/200\n",
            "8/8 - 0s - loss: 0.5676 - accuracy: 0.6872 - 27ms/epoch - 3ms/step\n",
            "Epoch 82/200\n",
            "8/8 - 0s - loss: 0.5744 - accuracy: 0.6564 - 27ms/epoch - 3ms/step\n",
            "Epoch 83/200\n",
            "8/8 - 0s - loss: 0.5205 - accuracy: 0.7048 - 26ms/epoch - 3ms/step\n",
            "Epoch 84/200\n",
            "8/8 - 0s - loss: 0.5252 - accuracy: 0.7269 - 23ms/epoch - 3ms/step\n",
            "Epoch 85/200\n",
            "8/8 - 0s - loss: 0.5588 - accuracy: 0.7181 - 21ms/epoch - 3ms/step\n",
            "Epoch 86/200\n",
            "8/8 - 0s - loss: 0.5807 - accuracy: 0.6872 - 18ms/epoch - 2ms/step\n",
            "Epoch 87/200\n",
            "8/8 - 0s - loss: 0.5568 - accuracy: 0.7269 - 18ms/epoch - 2ms/step\n",
            "Epoch 88/200\n",
            "8/8 - 0s - loss: 0.5475 - accuracy: 0.6784 - 19ms/epoch - 2ms/step\n",
            "Epoch 89/200\n",
            "8/8 - 0s - loss: 0.5217 - accuracy: 0.7048 - 21ms/epoch - 3ms/step\n",
            "Epoch 90/200\n",
            "8/8 - 0s - loss: 0.5288 - accuracy: 0.7313 - 20ms/epoch - 3ms/step\n",
            "Epoch 91/200\n",
            "8/8 - 0s - loss: 0.5592 - accuracy: 0.6872 - 19ms/epoch - 2ms/step\n",
            "Epoch 92/200\n",
            "8/8 - 0s - loss: 0.5341 - accuracy: 0.7401 - 20ms/epoch - 2ms/step\n",
            "Epoch 93/200\n",
            "8/8 - 0s - loss: 0.5739 - accuracy: 0.6608 - 23ms/epoch - 3ms/step\n",
            "Epoch 94/200\n",
            "8/8 - 0s - loss: 0.6021 - accuracy: 0.6696 - 20ms/epoch - 2ms/step\n",
            "Epoch 95/200\n",
            "8/8 - 0s - loss: 0.5406 - accuracy: 0.7313 - 19ms/epoch - 2ms/step\n",
            "Epoch 96/200\n",
            "8/8 - 0s - loss: 0.5789 - accuracy: 0.6960 - 22ms/epoch - 3ms/step\n",
            "Epoch 97/200\n",
            "8/8 - 0s - loss: 0.5432 - accuracy: 0.7269 - 19ms/epoch - 2ms/step\n",
            "Epoch 98/200\n",
            "8/8 - 0s - loss: 0.5490 - accuracy: 0.7621 - 25ms/epoch - 3ms/step\n",
            "Epoch 99/200\n",
            "8/8 - 0s - loss: 0.5196 - accuracy: 0.7401 - 20ms/epoch - 2ms/step\n",
            "Epoch 100/200\n",
            "8/8 - 0s - loss: 0.5175 - accuracy: 0.7093 - 19ms/epoch - 2ms/step\n",
            "Epoch 101/200\n",
            "8/8 - 0s - loss: 0.5252 - accuracy: 0.7269 - 19ms/epoch - 2ms/step\n",
            "Epoch 102/200\n",
            "8/8 - 0s - loss: 0.5571 - accuracy: 0.6960 - 32ms/epoch - 4ms/step\n",
            "Epoch 103/200\n",
            "8/8 - 0s - loss: 0.5504 - accuracy: 0.7137 - 20ms/epoch - 2ms/step\n",
            "Epoch 104/200\n",
            "8/8 - 0s - loss: 0.5429 - accuracy: 0.7401 - 20ms/epoch - 3ms/step\n",
            "Epoch 105/200\n",
            "8/8 - 0s - loss: 0.5815 - accuracy: 0.7048 - 19ms/epoch - 2ms/step\n",
            "Epoch 106/200\n",
            "8/8 - 0s - loss: 0.6436 - accuracy: 0.6123 - 20ms/epoch - 2ms/step\n",
            "Epoch 107/200\n",
            "8/8 - 0s - loss: 0.7049 - accuracy: 0.6432 - 19ms/epoch - 2ms/step\n",
            "Epoch 108/200\n",
            "8/8 - 0s - loss: 0.5419 - accuracy: 0.7225 - 18ms/epoch - 2ms/step\n",
            "Epoch 109/200\n",
            "8/8 - 0s - loss: 0.5220 - accuracy: 0.7313 - 18ms/epoch - 2ms/step\n",
            "Epoch 110/200\n",
            "8/8 - 0s - loss: 0.6514 - accuracy: 0.6520 - 18ms/epoch - 2ms/step\n",
            "Epoch 111/200\n",
            "8/8 - 0s - loss: 0.5391 - accuracy: 0.7048 - 18ms/epoch - 2ms/step\n",
            "Epoch 112/200\n",
            "8/8 - 0s - loss: 0.5490 - accuracy: 0.7093 - 22ms/epoch - 3ms/step\n",
            "Epoch 113/200\n",
            "8/8 - 0s - loss: 0.5003 - accuracy: 0.7533 - 19ms/epoch - 2ms/step\n",
            "Epoch 114/200\n",
            "8/8 - 0s - loss: 0.5087 - accuracy: 0.7357 - 22ms/epoch - 3ms/step\n",
            "Epoch 115/200\n",
            "8/8 - 0s - loss: 0.4940 - accuracy: 0.7621 - 31ms/epoch - 4ms/step\n",
            "Epoch 116/200\n",
            "8/8 - 0s - loss: 0.5513 - accuracy: 0.7313 - 27ms/epoch - 3ms/step\n",
            "Epoch 117/200\n",
            "8/8 - 0s - loss: 0.5149 - accuracy: 0.7665 - 28ms/epoch - 3ms/step\n",
            "Epoch 118/200\n",
            "8/8 - 0s - loss: 0.4917 - accuracy: 0.7621 - 25ms/epoch - 3ms/step\n",
            "Epoch 119/200\n",
            "8/8 - 0s - loss: 0.4851 - accuracy: 0.7577 - 24ms/epoch - 3ms/step\n",
            "Epoch 120/200\n",
            "8/8 - 0s - loss: 0.4903 - accuracy: 0.7445 - 26ms/epoch - 3ms/step\n",
            "Epoch 121/200\n",
            "8/8 - 0s - loss: 0.4802 - accuracy: 0.7401 - 31ms/epoch - 4ms/step\n",
            "Epoch 122/200\n",
            "8/8 - 0s - loss: 0.5329 - accuracy: 0.7533 - 24ms/epoch - 3ms/step\n",
            "Epoch 123/200\n",
            "8/8 - 0s - loss: 0.5168 - accuracy: 0.7269 - 26ms/epoch - 3ms/step\n",
            "Epoch 124/200\n",
            "8/8 - 0s - loss: 0.5812 - accuracy: 0.6872 - 27ms/epoch - 3ms/step\n",
            "Epoch 125/200\n",
            "8/8 - 0s - loss: 0.4947 - accuracy: 0.7489 - 34ms/epoch - 4ms/step\n",
            "Epoch 126/200\n",
            "8/8 - 0s - loss: 0.4789 - accuracy: 0.7753 - 21ms/epoch - 3ms/step\n",
            "Epoch 127/200\n",
            "8/8 - 0s - loss: 0.5160 - accuracy: 0.7401 - 19ms/epoch - 2ms/step\n",
            "Epoch 128/200\n",
            "8/8 - 0s - loss: 0.5505 - accuracy: 0.7093 - 20ms/epoch - 2ms/step\n",
            "Epoch 129/200\n",
            "8/8 - 0s - loss: 0.4714 - accuracy: 0.7621 - 18ms/epoch - 2ms/step\n",
            "Epoch 130/200\n",
            "8/8 - 0s - loss: 0.4783 - accuracy: 0.7533 - 19ms/epoch - 2ms/step\n",
            "Epoch 131/200\n",
            "8/8 - 0s - loss: 0.4720 - accuracy: 0.7665 - 18ms/epoch - 2ms/step\n",
            "Epoch 132/200\n",
            "8/8 - 0s - loss: 0.5003 - accuracy: 0.7621 - 19ms/epoch - 2ms/step\n",
            "Epoch 133/200\n",
            "8/8 - 0s - loss: 0.5080 - accuracy: 0.7401 - 18ms/epoch - 2ms/step\n",
            "Epoch 134/200\n",
            "8/8 - 0s - loss: 0.5602 - accuracy: 0.7313 - 19ms/epoch - 2ms/step\n",
            "Epoch 135/200\n",
            "8/8 - 0s - loss: 0.7461 - accuracy: 0.6256 - 18ms/epoch - 2ms/step\n",
            "Epoch 136/200\n",
            "8/8 - 0s - loss: 0.5466 - accuracy: 0.7269 - 21ms/epoch - 3ms/step\n",
            "Epoch 137/200\n",
            "8/8 - 0s - loss: 0.5351 - accuracy: 0.7357 - 19ms/epoch - 2ms/step\n",
            "Epoch 138/200\n",
            "8/8 - 0s - loss: 0.5077 - accuracy: 0.7533 - 18ms/epoch - 2ms/step\n",
            "Epoch 139/200\n",
            "8/8 - 0s - loss: 0.5226 - accuracy: 0.7269 - 21ms/epoch - 3ms/step\n",
            "Epoch 140/200\n",
            "8/8 - 0s - loss: 0.4735 - accuracy: 0.7709 - 30ms/epoch - 4ms/step\n",
            "Epoch 141/200\n",
            "8/8 - 0s - loss: 0.4646 - accuracy: 0.7709 - 20ms/epoch - 3ms/step\n",
            "Epoch 142/200\n",
            "8/8 - 0s - loss: 0.4496 - accuracy: 0.7841 - 19ms/epoch - 2ms/step\n",
            "Epoch 143/200\n",
            "8/8 - 0s - loss: 0.4482 - accuracy: 0.7665 - 19ms/epoch - 2ms/step\n",
            "Epoch 144/200\n",
            "8/8 - 0s - loss: 0.4864 - accuracy: 0.7313 - 18ms/epoch - 2ms/step\n",
            "Epoch 145/200\n",
            "8/8 - 0s - loss: 0.4363 - accuracy: 0.7841 - 18ms/epoch - 2ms/step\n",
            "Epoch 146/200\n",
            "8/8 - 0s - loss: 0.4441 - accuracy: 0.7797 - 18ms/epoch - 2ms/step\n",
            "Epoch 147/200\n",
            "8/8 - 0s - loss: 0.4425 - accuracy: 0.7885 - 20ms/epoch - 3ms/step\n",
            "Epoch 148/200\n",
            "8/8 - 0s - loss: 0.4535 - accuracy: 0.7885 - 19ms/epoch - 2ms/step\n",
            "Epoch 149/200\n",
            "8/8 - 0s - loss: 0.4405 - accuracy: 0.7974 - 20ms/epoch - 2ms/step\n",
            "Epoch 150/200\n",
            "8/8 - 0s - loss: 0.4433 - accuracy: 0.7841 - 18ms/epoch - 2ms/step\n",
            "Epoch 151/200\n",
            "8/8 - 0s - loss: 0.4503 - accuracy: 0.7797 - 19ms/epoch - 2ms/step\n",
            "Epoch 152/200\n",
            "8/8 - 0s - loss: 0.5117 - accuracy: 0.7357 - 24ms/epoch - 3ms/step\n",
            "Epoch 153/200\n",
            "8/8 - 0s - loss: 0.4725 - accuracy: 0.7665 - 23ms/epoch - 3ms/step\n",
            "Epoch 154/200\n",
            "8/8 - 0s - loss: 0.4767 - accuracy: 0.7885 - 26ms/epoch - 3ms/step\n",
            "Epoch 155/200\n",
            "8/8 - 0s - loss: 0.4691 - accuracy: 0.7753 - 25ms/epoch - 3ms/step\n",
            "Epoch 156/200\n",
            "8/8 - 0s - loss: 0.4413 - accuracy: 0.7974 - 21ms/epoch - 3ms/step\n",
            "Epoch 157/200\n",
            "8/8 - 0s - loss: 0.4274 - accuracy: 0.7974 - 26ms/epoch - 3ms/step\n",
            "Epoch 158/200\n",
            "8/8 - 0s - loss: 0.4475 - accuracy: 0.7885 - 24ms/epoch - 3ms/step\n",
            "Epoch 159/200\n",
            "8/8 - 0s - loss: 0.4797 - accuracy: 0.7709 - 26ms/epoch - 3ms/step\n",
            "Epoch 160/200\n",
            "8/8 - 0s - loss: 0.4579 - accuracy: 0.7665 - 23ms/epoch - 3ms/step\n",
            "Epoch 161/200\n",
            "8/8 - 0s - loss: 0.4392 - accuracy: 0.8062 - 24ms/epoch - 3ms/step\n",
            "Epoch 162/200\n",
            "8/8 - 0s - loss: 0.5077 - accuracy: 0.7621 - 26ms/epoch - 3ms/step\n",
            "Epoch 163/200\n",
            "8/8 - 0s - loss: 0.5185 - accuracy: 0.7489 - 25ms/epoch - 3ms/step\n",
            "Epoch 164/200\n",
            "8/8 - 0s - loss: 0.4302 - accuracy: 0.7797 - 20ms/epoch - 2ms/step\n",
            "Epoch 165/200\n",
            "8/8 - 0s - loss: 0.4253 - accuracy: 0.8150 - 19ms/epoch - 2ms/step\n",
            "Epoch 166/200\n",
            "8/8 - 0s - loss: 0.4199 - accuracy: 0.7930 - 18ms/epoch - 2ms/step\n",
            "Epoch 167/200\n",
            "8/8 - 0s - loss: 0.4369 - accuracy: 0.7974 - 18ms/epoch - 2ms/step\n",
            "Epoch 168/200\n",
            "8/8 - 0s - loss: 0.4178 - accuracy: 0.7930 - 17ms/epoch - 2ms/step\n",
            "Epoch 169/200\n",
            "8/8 - 0s - loss: 0.4618 - accuracy: 0.7709 - 21ms/epoch - 3ms/step\n",
            "Epoch 170/200\n",
            "8/8 - 0s - loss: 0.4199 - accuracy: 0.8018 - 20ms/epoch - 2ms/step\n",
            "Epoch 171/200\n",
            "8/8 - 0s - loss: 0.4145 - accuracy: 0.8194 - 21ms/epoch - 3ms/step\n",
            "Epoch 172/200\n",
            "8/8 - 0s - loss: 0.4342 - accuracy: 0.8106 - 20ms/epoch - 3ms/step\n",
            "Epoch 173/200\n",
            "8/8 - 0s - loss: 0.5066 - accuracy: 0.7621 - 22ms/epoch - 3ms/step\n",
            "Epoch 174/200\n",
            "8/8 - 0s - loss: 0.4500 - accuracy: 0.7885 - 23ms/epoch - 3ms/step\n",
            "Epoch 175/200\n",
            "8/8 - 0s - loss: 0.4456 - accuracy: 0.8150 - 19ms/epoch - 2ms/step\n",
            "Epoch 176/200\n",
            "8/8 - 0s - loss: 0.4540 - accuracy: 0.7797 - 19ms/epoch - 2ms/step\n",
            "Epoch 177/200\n",
            "8/8 - 0s - loss: 0.5120 - accuracy: 0.7709 - 20ms/epoch - 3ms/step\n",
            "Epoch 178/200\n",
            "8/8 - 0s - loss: 0.4085 - accuracy: 0.8062 - 19ms/epoch - 2ms/step\n",
            "Epoch 179/200\n",
            "8/8 - 0s - loss: 0.4251 - accuracy: 0.7885 - 24ms/epoch - 3ms/step\n",
            "Epoch 180/200\n",
            "8/8 - 0s - loss: 0.4450 - accuracy: 0.7753 - 30ms/epoch - 4ms/step\n",
            "Epoch 181/200\n",
            "8/8 - 0s - loss: 0.4047 - accuracy: 0.7930 - 21ms/epoch - 3ms/step\n",
            "Epoch 182/200\n",
            "8/8 - 0s - loss: 0.4453 - accuracy: 0.8150 - 20ms/epoch - 2ms/step\n",
            "Epoch 183/200\n",
            "8/8 - 0s - loss: 0.4136 - accuracy: 0.8194 - 18ms/epoch - 2ms/step\n",
            "Epoch 184/200\n",
            "8/8 - 0s - loss: 0.3948 - accuracy: 0.8282 - 18ms/epoch - 2ms/step\n",
            "Epoch 185/200\n",
            "8/8 - 0s - loss: 0.4450 - accuracy: 0.7665 - 20ms/epoch - 3ms/step\n",
            "Epoch 186/200\n",
            "8/8 - 0s - loss: 0.4195 - accuracy: 0.8150 - 19ms/epoch - 2ms/step\n",
            "Epoch 187/200\n",
            "8/8 - 0s - loss: 0.4126 - accuracy: 0.7974 - 18ms/epoch - 2ms/step\n",
            "Epoch 188/200\n",
            "8/8 - 0s - loss: 0.4389 - accuracy: 0.7753 - 22ms/epoch - 3ms/step\n",
            "Epoch 189/200\n",
            "8/8 - 0s - loss: 0.6086 - accuracy: 0.7137 - 39ms/epoch - 5ms/step\n",
            "Epoch 190/200\n",
            "8/8 - 0s - loss: 0.5496 - accuracy: 0.7048 - 33ms/epoch - 4ms/step\n",
            "Epoch 191/200\n",
            "8/8 - 0s - loss: 0.4841 - accuracy: 0.7753 - 39ms/epoch - 5ms/step\n",
            "Epoch 192/200\n",
            "8/8 - 0s - loss: 0.4844 - accuracy: 0.7533 - 33ms/epoch - 4ms/step\n",
            "Epoch 193/200\n",
            "8/8 - 0s - loss: 0.3914 - accuracy: 0.8238 - 29ms/epoch - 4ms/step\n",
            "Epoch 194/200\n",
            "8/8 - 0s - loss: 0.4097 - accuracy: 0.8106 - 32ms/epoch - 4ms/step\n",
            "Epoch 195/200\n",
            "8/8 - 0s - loss: 0.4649 - accuracy: 0.7841 - 40ms/epoch - 5ms/step\n",
            "Epoch 196/200\n",
            "8/8 - 0s - loss: 0.4835 - accuracy: 0.7577 - 39ms/epoch - 5ms/step\n",
            "Epoch 197/200\n",
            "8/8 - 0s - loss: 0.4558 - accuracy: 0.7841 - 33ms/epoch - 4ms/step\n",
            "Epoch 198/200\n",
            "8/8 - 0s - loss: 0.4114 - accuracy: 0.7885 - 34ms/epoch - 4ms/step\n",
            "Epoch 199/200\n",
            "8/8 - 0s - loss: 0.4371 - accuracy: 0.7885 - 27ms/epoch - 3ms/step\n",
            "Epoch 200/200\n",
            "8/8 - 0s - loss: 0.4186 - accuracy: 0.7974 - 29ms/epoch - 4ms/step\n"
          ]
        },
        {
          "output_type": "execute_result",
          "data": {
            "text/plain": [
              "<keras.src.callbacks.History at 0x7950c1cbbd90>"
            ]
          },
          "metadata": {},
          "execution_count": 44
        }
      ]
    },
    {
      "cell_type": "markdown",
      "source": [
        "## **6.4 Evaluate the Model**"
      ],
      "metadata": {
        "id": "dtCC-lnYByb4"
      }
    },
    {
      "cell_type": "code",
      "source": [
        "oss, acc = model.evaluate(X_test, y_test, verbose=2)\n",
        "print(f'Test Accuracy: {acc}')"
      ],
      "metadata": {
        "id": "lDbzZt62B3oh",
        "colab": {
          "base_uri": "https://localhost:8080/"
        },
        "outputId": "cadb695b-cbf7-4039-c831-da297ec08b13"
      },
      "execution_count": 45,
      "outputs": [
        {
          "output_type": "stream",
          "name": "stdout",
          "text": [
            "3/3 - 0s - loss: 0.3584 - accuracy: 0.8816 - 173ms/epoch - 58ms/step\n",
            "Test Accuracy: 0.8815789222717285\n"
          ]
        }
      ]
    },
    {
      "cell_type": "markdown",
      "source": [
        "## **6.5 Make Prediction**"
      ],
      "metadata": {
        "id": "X71UfztvCA6e"
      }
    },
    {
      "cell_type": "code",
      "source": [
        "new_data = [57,\t0,\t1,\t130,\t236,\t0,\t0,\t174,\t0,\t0.0,\t1,\t1,\t2]\n",
        "\n",
        "y_pred = model.predict([new_data])\n",
        "# print(f'Predicted: {y_pred} (class = {argmax(y_pred)})')\n",
        "\n",
        "class1 = argmax(y_pred)\n",
        "if class1 == 0:\n",
        "  print(f'Heart Disease, Akurasi Model Prediksi=> {y_pred}')\n",
        "else:\n",
        "  print(f'No Heart Disease, Akurasi Model Prediksi=> {y_pred}')"
      ],
      "metadata": {
        "id": "Zx7hzDfZCE3u",
        "colab": {
          "base_uri": "https://localhost:8080/"
        },
        "outputId": "291d8623-1557-4065-a4f8-8c112b968a57"
      },
      "execution_count": 46,
      "outputs": [
        {
          "output_type": "stream",
          "name": "stdout",
          "text": [
            "1/1 [==============================] - 0s 115ms/step\n",
            "Heart Disease, Akurasi Model Prediksi=> [[0.8838187]]\n"
          ]
        }
      ]
    }
  ]
}